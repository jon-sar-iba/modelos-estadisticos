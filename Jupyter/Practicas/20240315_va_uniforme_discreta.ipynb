{
 "cells": [
  {
   "cell_type": "markdown",
   "id": "2faff4fe-6e6d-4650-9c02-2bc062628f84",
   "metadata": {},
   "source": [
    "$\\color{red}{\\text{Ejercicio 1.}}$ Verifica que, en efecto, la esperanza y varianza de una variable aleatoria uniforme.\n",
    "La función de distribución de una v.a. uniforme es:\n",
    "$$ F_X(x) = \\mathbb{P}(X\\le x) = \\begin{cases} 0, \\quad \\text{si } x < x_1 \\\\ \\frac{x}{n}, \\quad \\text{si } x\\in \\{x_1,...,x_n\\} \\\\\n",
    "1, \\quad \\text{si } x > x_n \\end{cases}$$\n",
    "**Ejemplo** Se lleva a cabo una rifa donde los boletos están enumerados del $00$ al $99$. Si $Y$ es la variable aleatoria definida como el número del boleto ganador, entonces:  \n",
    "$$\\mathbb{P}(Y=k)=\\begin{cases}\n",
    "\t\\frac{1}{100} &\\quad \\text{si } k=00,01,\\dots,99 \\\\\n",
    "\t0 &\\quad \\text{en otro caso}\n",
    "\\end{cases}$$\n",
    "Consideremos que el premio de la rifa se determina a partir del número premiado de la siguiente forma: $X=Y+1$, donde $X$ es el monto del premio en pesos y $Y$ es el número premiado, entonces $X$ es una variable aleatoria, pues es una función de $Y$, y además se tiene\n",
    "\t$$f_{X}(k)=\\begin{cases}\n",
    "\t\t\\frac{1}{100} &\\quad \\text{si } x=1,2,\\dots,100 \\\\\n",
    "\t\t0 &\\quad \\text{en otro caso}\n",
    "\t\\end{cases}$$"
   ]
  },
  {
   "cell_type": "markdown",
   "id": "d58ac8f8-9478-47ac-b636-23fee24457b8",
   "metadata": {},
   "source": [
    "$\\color{red}{\\text{Ejercicio 2.}}$ Calcular la esperanza y varianza.\n",
    "Supongamos que nos interesa calcular la probabilidad de que el premio sea mayor a $\\$80$, entonces\n",
    "$$ \\mathbb{P}(X>80) = \\sum_{k=81}^{100} \\frac{1}{100} = \\frac{20}{100} = 0.2 $$"
   ]
  },
  {
   "cell_type": "code",
   "execution_count": null,
   "id": "9e922d61-2659-4b49-a511-d94e801d29b3",
   "metadata": {},
   "outputs": [],
   "source": []
  }
 ],
 "metadata": {
  "kernelspec": {
   "display_name": "Python 3 (ipykernel)",
   "language": "python",
   "name": "python3"
  },
  "language_info": {
   "codemirror_mode": {
    "name": "ipython",
    "version": 3
   },
   "file_extension": ".py",
   "mimetype": "text/x-python",
   "name": "python",
   "nbconvert_exporter": "python",
   "pygments_lexer": "ipython3",
   "version": "3.12.3"
  }
 },
 "nbformat": 4,
 "nbformat_minor": 5
}
