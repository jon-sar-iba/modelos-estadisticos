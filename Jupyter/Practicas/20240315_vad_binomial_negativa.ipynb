{
 "cells": [
  {
   "cell_type": "markdown",
   "id": "3b578497-f322-45e1-ba3f-f9c8ae279379",
   "metadata": {},
   "source": [
    "$\\color{red}{\\text{Ejercicio 4.}}$ Un examen de Estadística consta de 20 preguntas tipo test y se conoce de experiencias\n",
    "anteriores que un alumno tiene probabilidad 0.7 de contestar bien cada pregunta. Obtener:\n",
    "\n",
    "a) La probabilidad de que la primera pregunta que contesta bien sea la cuarta.\n",
    "\n",
    "b) Sabiendo que para aprobar el examen es necesario contestar bien a 10 preguntas, ¿cuál es la probabilidad de que apruebe al contestar la pregunta duodécima?"
   ]
  },
  {
   "cell_type": "code",
   "execution_count": null,
   "id": "47a20d90-c704-4b0b-a173-4626a5a36ebf",
   "metadata": {},
   "outputs": [],
   "source": []
  },
  {
   "cell_type": "markdown",
   "id": "0c142ac8-9d55-4eea-876f-5d73f45de3c7",
   "metadata": {},
   "source": [
    "$\\color{red}{\\text{Ejercicio 5.}}$ Investigue sobre el problema de la caja de cerillos de Banach."
   ]
  },
  {
   "cell_type": "code",
   "execution_count": null,
   "id": "b31e761c-7e34-4846-9a4f-dae6cb60b816",
   "metadata": {},
   "outputs": [],
   "source": []
  }
 ],
 "metadata": {
  "kernelspec": {
   "display_name": "Python 3 (ipykernel)",
   "language": "python",
   "name": "python3"
  },
  "language_info": {
   "codemirror_mode": {
    "name": "ipython",
    "version": 3
   },
   "file_extension": ".py",
   "mimetype": "text/x-python",
   "name": "python",
   "nbconvert_exporter": "python",
   "pygments_lexer": "ipython3",
   "version": "3.12.3"
  }
 },
 "nbformat": 4,
 "nbformat_minor": 5
}
