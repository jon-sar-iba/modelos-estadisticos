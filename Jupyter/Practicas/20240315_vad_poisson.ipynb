{
 "cells": [
  {
   "cell_type": "markdown",
   "id": "e379dc78-d696-4940-b866-afc2a8c1db9f",
   "metadata": {},
   "source": [
    "$\\color{red}{\\text{Ejercicio 3.}}$ Usando el atributo `.cdf` [Poisson](https://docs.scipy.org/doc/scipy/reference/generated/scipy.stats.poisson.html) calcula las probabilidades siguientes.\n",
    "Supongamos que el número de accidentes que ocurre en un punto en un día tiene distribución Poisson con parámetro $\\lambda=2$, \n",
    "\n",
    "- ¿cuál es la probabilidad de que en un día ocurran más de dos accidentes?\n",
    "  $$ \\begin{align*} \\mathbb{P}(X>2) &= 1- \\mathbb{P}(X\\le 2) \\\\\n",
    "    &= 1- [\\mathbb{P}(X=0) + \\mathbb{P}(X=1) + \\mathbb{P}(X=2)] \\\\\n",
    "    &= 1- \\left[ e^{-2}\\frac{2^0}{0!} + e^{-2}\\frac{2^1}{1!} + e^{-2}\\frac{2^2}{2!} \\right] \\\\\n",
    "    &= 1 - e^{-2}[1+2+2] = 1-5e^{-2} = 0.3233\n",
    "    \\end{align*} $$\n",
    "- ¿cuál es la probabilidad de que ocurran más de dos accidentes sabiendo que por lo menos ocurre uno?\n",
    "  $$ \\begin{align*} \\mathbb{P}(X>2 \\mid X \\ge 1) &= \\frac{\\mathbb{P}(\\{X>2\\} \\cap \\{X \\ge 1\\} )}{\\mathbb{P}\\{X \\ge 1)\\}} \\\\\n",
    "       &= \\frac{\\mathbb{P}(\\{X>2\\})}{\\mathbb{P}\\{X \\ge 1)\\}} \\\\\n",
    "       & = \\frac{.3233}{1-\\mathbb{P}(X<1)} = \\frac{0.3233}{1-e^{-2}} \\frac{0.3233}{.8646} = 0.3739\n",
    "       \\end{align*} $$"
   ]
  },
  {
   "cell_type": "code",
   "execution_count": null,
   "id": "444d55d2-0fd0-4e73-831a-fa65d97d828e",
   "metadata": {},
   "outputs": [],
   "source": []
  }
 ],
 "metadata": {
  "kernelspec": {
   "display_name": "Python 3 (ipykernel)",
   "language": "python",
   "name": "python3"
  },
  "language_info": {
   "codemirror_mode": {
    "name": "ipython",
    "version": 3
   },
   "file_extension": ".py",
   "mimetype": "text/x-python",
   "name": "python",
   "nbconvert_exporter": "python",
   "pygments_lexer": "ipython3",
   "version": "3.12.3"
  }
 },
 "nbformat": 4,
 "nbformat_minor": 5
}
