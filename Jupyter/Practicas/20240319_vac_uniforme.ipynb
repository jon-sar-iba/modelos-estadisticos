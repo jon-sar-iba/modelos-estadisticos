{
 "cells": [
  {
   "cell_type": "markdown",
   "id": "d2f0d5d2-af40-4198-bbef-2f2ee0b1c2b7",
   "metadata": {},
   "source": [
    "$\\color{red}{\\text{Ejercicio 1.}}$ Un alumno se dirige a la biblioteca para solicitar el préstamo de un libro y decide que no puede esperar más de $10$ minutos en ser atendido. Supongamos que el bibliotecario tarda por lo menos $0.5$ minutos en atender a una persona, entonces es razonable proponer una distribución uniforme en el intervalo $[0.5,10]$ para modelar el comportamiento de la variable $X$ que es el tiempo en ser atendido (en  minutos).\n",
    "\n",
    "- Da la función de densidad y gráfica.\n",
    "- ¿Cuál es la probabilidad de que el tiempo en ser atendido sea mayor a $5$ minutos pero menor a $8$ minutos?\n",
    "- ¿Cuál es la esperanza y varianza?\n",
    "- Calcula la función de distribución y con ella calcula: $\\mathbb{P}(2.51\\le X \\le 7.99)$."
   ]
  },
  {
   "cell_type": "markdown",
   "id": "5c153e0e-b13a-4954-84ea-479f92bc1816",
   "metadata": {},
   "source": []
  }
 ],
 "metadata": {
  "kernelspec": {
   "display_name": "Python 3 (ipykernel)",
   "language": "python",
   "name": "python3"
  },
  "language_info": {
   "codemirror_mode": {
    "name": "ipython",
    "version": 3
   },
   "file_extension": ".py",
   "mimetype": "text/x-python",
   "name": "python",
   "nbconvert_exporter": "python",
   "pygments_lexer": "ipython3",
   "version": "3.12.3"
  }
 },
 "nbformat": 4,
 "nbformat_minor": 5
}
