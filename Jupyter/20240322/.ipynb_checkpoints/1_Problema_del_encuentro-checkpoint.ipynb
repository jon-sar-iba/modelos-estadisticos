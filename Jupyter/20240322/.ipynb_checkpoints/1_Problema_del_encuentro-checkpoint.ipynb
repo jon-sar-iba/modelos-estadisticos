{
 "cells": [
  {
   "cell_type": "markdown",
   "id": "6d34e793-e66f-44c8-aaac-5e7d9c9f658a",
   "metadata": {},
   "source": [
    "# EL problema del encuentro"
   ]
  },
  {
   "cell_type": "markdown",
   "id": "87600f3f-011f-43c6-ab8c-78b79b309d09",
   "metadata": {},
   "source": [
    "Romeo y julieta pretenden encontrarse en un lugar específico entre $[0, 60]$.\n",
    "\n",
    "- Si Romeo llega primero, entonces piensa esperar 10 minutos\n",
    "- Si julieta llega primero, entonces piensa esperar 10 minutos\n",
    "\n",
    "Se elije un número al azar entre $0$ y $60$, y supongamos que el par de números se elije sobre el cuadrado $60^2$, de modo que la probabilidad de un evento, sea el área favorable entre el área total.\n",
    "\n",
    "Sea en evento:\n",
    "- $A$: Romeo y Julieta se encuentran a una distancia de 10 minutos."
   ]
  },
  {
   "cell_type": "code",
   "execution_count": null,
   "id": "1f924db7-ffaa-4a37-b7f1-c27f3a774e89",
   "metadata": {},
   "outputs": [],
   "source": [
    "import matplotlib.pyplot as plt\n",
    "import numpy as np\n",
    "\n",
    "# Vamos a generar 100,000 simulaciones\n",
    "muestra = 1000\n",
    "\n",
    "# Generar los tiempos aleatorios entre [0, 60]\n",
    "# x : tiempo de llegada de Romeo [0, 60]\n",
    "# y : tiempo de llegada de Juieta [0, 60]\n",
    "\n",
    "x,y = np.random.uniform(0, 60, muestra), np.random.uniform(0, 60, muestra)\n",
    "\n",
    "# Vamos a añadir nuestra condición de encuentro\n",
    "encuentro = np.where(abs(x-y)<=10, 'r', 'b')\n",
    "# Donde:\n",
    "# r: si se encuentran\n",
    "# b: si no se encuentran\n",
    "\n",
    "# Cálculo de la probabilidad del encuentro\n",
    "k = 0\n",
    "for elemento in encuentro:\n",
    "    if elemento == 'r':\n",
    "        k += 1\n",
    "\n",
    "print(f'Probabilidad del evento A es: {format(k/muestra)}')"
   ]
  },
  {
   "cell_type": "code",
   "execution_count": null,
   "id": "d88e5138-b2bd-4ab8-9527-e443377ab5c8",
   "metadata": {},
   "outputs": [],
   "source": [
    "plt.scatter(x, y, c=encuentro, s=1)\n",
    "\n"
   ]
  },
  {
   "cell_type": "code",
   "execution_count": null,
   "id": "2f2801a8-a963-42c4-911d-b5c648449c6a",
   "metadata": {},
   "outputs": [],
   "source": []
  }
 ],
 "metadata": {
  "kernelspec": {
   "display_name": "Python 3 (ipykernel)",
   "language": "python",
   "name": "python3"
  },
  "language_info": {
   "codemirror_mode": {
    "name": "ipython",
    "version": 3
   },
   "file_extension": ".py",
   "mimetype": "text/x-python",
   "name": "python",
   "nbconvert_exporter": "python",
   "pygments_lexer": "ipython3",
   "version": "3.12.3"
  }
 },
 "nbformat": 4,
 "nbformat_minor": 5
}
