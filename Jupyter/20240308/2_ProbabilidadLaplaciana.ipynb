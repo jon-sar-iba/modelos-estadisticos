{
 "cells": [
  {
   "cell_type": "markdown",
   "id": "d22f9dc8-2aea-4141-bb79-46652a4933a7",
   "metadata": {},
   "source": [
    "# Probabilidad Laplaciana (clásica)\n",
    "Para un experimento aleatorio, se tiene que: $\\Omega$ es el espacio muestral\n",
    "\n",
    "Sea $A$ un evento, entonces\n",
    "\n",
    "$$ \\mathbb{P}(A) = \\frac{\\#A}{\\#\\Omega} $$\n",
    "\n",
    "**EJEMPLO** Sea el experimento de lanzar una moneda 3 veces, de manera independiente (es, decir, el $i$-ésimo lanzamiento no me afecta al $i+1$ lanzamiento). El espacio muestral de este experimento es:\n",
    "\n",
    "$$ \\Omega = \\{A,S\\} \\times \\{A,S\\} \\times \\{A,S\\} = \\{A,S\\}^3 $$\n",
    "y tenemos que $\\#\\Omega = 2^3$"
   ]
  },
  {
   "cell_type": "markdown",
   "id": "018785af-cc39-4652-b23b-bcaf97dd591d",
   "metadata": {},
   "source": [
    "Sean los eventos:\n",
    "* $A$: todos los resultados son aguila\n",
    "* $S$: todos los resultados son soles\n",
    "* $E$: Por lo menos un resultado es sol\n",
    "\n",
    "Calcular las probabilidades de estos eventos:"
   ]
  },
  {
   "cell_type": "markdown",
   "id": "0ba0803a-6c01-4d2f-9eb3-531243f4e4df",
   "metadata": {},
   "source": [
    "**Solución**: Vamos a descomponer mi conjunto $A$ de la siguiente manera:\n",
    "$$ A = A_1 \\cap A_2 \\cap A_3 $$\n",
    "Donde $A_i$: cae águila en el $i$-ésimo resultado."
   ]
  },
  {
   "cell_type": "code",
   "execution_count": 30,
   "id": "09105239-2c7f-4d22-aa59-664e075a8543",
   "metadata": {},
   "outputs": [
    {
     "data": {
      "text/plain": [
       "{('A', 'A', 'A'),\n",
       " ('A', 'A', 'S'),\n",
       " ('A', 'S', 'A'),\n",
       " ('A', 'S', 'S'),\n",
       " ('S', 'A', 'A'),\n",
       " ('S', 'A', 'S'),\n",
       " ('S', 'S', 'A'),\n",
       " ('S', 'S', 'S')}"
      ]
     },
     "execution_count": 30,
     "metadata": {},
     "output_type": "execute_result"
    }
   ],
   "source": [
    "# Vamos a crear el espacio muestral \n",
    "import itertools\n",
    "from itertools import product\n",
    "\n",
    "Omega = set(product({\"A\", \"S\"}, repeat=3))\n",
    "\n",
    "Omega"
   ]
  },
  {
   "cell_type": "code",
   "execution_count": 7,
   "id": "1b7c3997-6dd2-45e9-9389-5e324f0f868c",
   "metadata": {},
   "outputs": [
    {
     "data": {
      "text/plain": [
       "8"
      ]
     },
     "execution_count": 7,
     "metadata": {},
     "output_type": "execute_result"
    }
   ],
   "source": [
    "card = len(Omega)\n",
    "card"
   ]
  },
  {
   "cell_type": "code",
   "execution_count": 32,
   "id": "906f5005-d437-40ed-9d78-dd8eddd07e80",
   "metadata": {},
   "outputs": [
    {
     "name": "stdout",
     "output_type": "stream",
     "text": [
      "Evento A:  {('A', 'A', 'A')}\n",
      "len(A):  1\n",
      "P_A:  0.125\n",
      "probabilidad de A:  1/8\n"
     ]
    }
   ],
   "source": [
    "#Vamos a crear el evento A_1\n",
    "A_1 = {om for om in Omega if om[0] == \"A\"} #La primera coordenada es águila\n",
    "A_1\n",
    "\n",
    "#Vamos a crear el evento A_1\n",
    "A_2 = {om for om in Omega if om[1] == \"A\"} #La segunda coordenada es águila\n",
    "A_2\n",
    "\n",
    "#Vamos a crear el evento A_1\n",
    "A_3 = {om for om in Omega if om[2] == \"A\"} #La segunda coordenada es águila\n",
    "A_3\n",
    "\n",
    "from fractions import Fraction\n",
    "\n",
    "#Vamos a crear el evento A\n",
    "A = A_1.intersection(A_2.intersection(A_3))\n",
    "print('Evento A: ',A)\n",
    "print('len(A): ',len(A))\n",
    "P_A = len(A)/len(Omega)\n",
    "print('P_A: ',P_A)\n",
    "\n",
    "def p(E, Omega):\n",
    "    p = Fraction(len(E), len(Omega))\n",
    "    return p\n",
    "\n",
    "prob = p(A, Omega)\n",
    "print('probabilidad de A: ',prob)"
   ]
  },
  {
   "cell_type": "markdown",
   "id": "386c4eda-e9f1-4bad-b652-71bdc4f9a5c4",
   "metadata": {},
   "source": [
    "## Ejercicio\n",
    "\n",
    "Obtener la probabilidad de los siguientes eventos:\n",
    "\n",
    "* $S$: todos los resultados son soles\n",
    "* $E$: Por lo menos un resultado es sol\n",
    "\n",
    "## Solución"
   ]
  },
  {
   "cell_type": "code",
   "execution_count": 37,
   "id": "36835aeb-3927-44b8-81ab-be0cf9aec6fd",
   "metadata": {},
   "outputs": [
    {
     "name": "stdout",
     "output_type": "stream",
     "text": [
      "Evento S: {('S', 'S', 'S')}\n",
      "Probabilidad de S: 1/8\n"
     ]
    }
   ],
   "source": [
    "# Evento S: todos los resultados son sol\n",
    "S_1 = {om for om in Omega if om[0] == \"S\"}\n",
    "S_1\n",
    "\n",
    "#Vamos a crear el evento S_1\n",
    "S_2 = {om for om in Omega if om[1] == \"S\"}\n",
    "S_2\n",
    "\n",
    "#Vamos a crear el evento S_2\n",
    "S_3 = {om for om in Omega if om[2] == \"S\"}\n",
    "S_3\n",
    "\n",
    "from fractions import Fraction\n",
    "\n",
    "#Vamos a crear el evento A\n",
    "S = S_1.intersection(S_2.intersection(S_3))\n",
    "# Probabilidad de S\n",
    "P_S = len(S) / len(Omega)\n",
    "\n",
    "# Usamos la función Fraction para representar la probabilidad como fracción\n",
    "from fractions import Fraction\n",
    "prob_S = Fraction(P_S).limit_denominator()\n",
    "\n",
    "print('Evento S:', S)\n",
    "print('Probabilidad de S:', prob_S)"
   ]
  },
  {
   "cell_type": "code",
   "execution_count": 35,
   "id": "100deb7e-09df-43d1-8d9e-a77eef20c550",
   "metadata": {},
   "outputs": [
    {
     "name": "stdout",
     "output_type": "stream",
     "text": [
      "Probabilidad de E: 7/8\n"
     ]
    }
   ],
   "source": [
    "# Evento E: por lo menos un resultado es sol\n",
    "# Usamos el complemento de A\n",
    "P_E = 1 - P_A\n",
    "P_E\n",
    "\n",
    "prob_E = Fraction(P_E).limit_denominator()\n",
    "\n",
    "print('Probabilidad de E:', prob_E)"
   ]
  },
  {
   "cell_type": "code",
   "execution_count": null,
   "id": "001d43f1-f40f-4fa2-b53c-bcccb4c5a142",
   "metadata": {},
   "outputs": [],
   "source": []
  }
 ],
 "metadata": {
  "kernelspec": {
   "display_name": "Python 3 (ipykernel)",
   "language": "python",
   "name": "python3"
  },
  "language_info": {
   "codemirror_mode": {
    "name": "ipython",
    "version": 3
   },
   "file_extension": ".py",
   "mimetype": "text/x-python",
   "name": "python",
   "nbconvert_exporter": "python",
   "pygments_lexer": "ipython3",
   "version": "3.12.3"
  }
 },
 "nbformat": 4,
 "nbformat_minor": 5
}
