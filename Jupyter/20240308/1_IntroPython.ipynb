{
 "cells": [
  {
   "cell_type": "markdown",
   "id": "8bc7505c-2c49-453f-86c1-9762ca3bdbe8",
   "metadata": {},
   "source": [
    "# Introducción\n",
    "## Título más pequeño\n",
    "### Hola\n",
    "#### Hola\n",
    "**Hola**\n",
    "\n",
    "*Hola*\n"
   ]
  },
  {
   "cell_type": "markdown",
   "id": "4644a064-35c9-425b-909a-7f0e096ebc9a",
   "metadata": {},
   "source": [
    "## Python\n",
    "* En un lenguaje orientado a **objetos**\n",
    "* **Objetos**: enteros (int), decimales (float), cadena de carácteres (str), listas (list), vectores (arrays), conjuntos (set), Booleanos (bool), DataFrames, etc "
   ]
  },
  {
   "cell_type": "code",
   "execution_count": 10,
   "id": "d2c2ef18-3f1c-4e40-8951-59a5ca128587",
   "metadata": {},
   "outputs": [
    {
     "name": "stdout",
     "output_type": "stream",
     "text": [
      "Hola Mundo\n"
     ]
    }
   ],
   "source": [
    "# Primer ejemplo: <- cometario\n",
    "print(\"Hola Mundo\")\n"
   ]
  },
  {
   "cell_type": "code",
   "execution_count": 14,
   "id": "a24d1356-bfca-4b8f-979b-f1e04967d3fb",
   "metadata": {},
   "outputs": [
    {
     "name": "stdout",
     "output_type": "stream",
     "text": [
      "14\n",
      "0.8\n",
      "20\n",
      "8\n",
      "0\n"
     ]
    }
   ],
   "source": [
    "print(5+9) #suma\n",
    "print(4/5) #división\n",
    "print(4*5) #multiplicación\n",
    "print(2**3) #potencia\n",
    "print(4//5) #división al piso\n"
   ]
  },
  {
   "cell_type": "markdown",
   "id": "5b1b2e18-ee55-4b69-b251-0b57c72652d3",
   "metadata": {},
   "source": [
    "Sea $x \\in \\mathbb{R}$, la función piso, se define como sigue:\n",
    "$$ \\lfloor x \\rfloor = \\max \\{ \\min m\\in\\mathbb{Z} \\mid m \\leq x \\} $$"
   ]
  },
  {
   "cell_type": "markdown",
   "id": "93b86d48-b259-4de1-b872-7aba1a399f0b",
   "metadata": {},
   "source": [
    "También podemos hacer la operación modular: Sean $a,b\\in \\mathbb{R} $\n",
    "El residuo de dividir $a$ entre $b$ se llama operación modular, en Python se escribe como:\n",
    "`a%b` "
   ]
  },
  {
   "cell_type": "code",
   "execution_count": 22,
   "id": "a09a7ac9-86e3-44d7-b7ff-4dff1d112dff",
   "metadata": {},
   "outputs": [
    {
     "data": {
      "text/plain": [
       "1"
      ]
     },
     "execution_count": 22,
     "metadata": {},
     "output_type": "execute_result"
    }
   ],
   "source": [
    "5%2"
   ]
  },
  {
   "cell_type": "markdown",
   "id": "1df93a96-0920-4a53-9e9a-b2b6fc616443",
   "metadata": {},
   "source": [
    "Los objetos tienen atributos (miembros):\n",
    "* Datos: información útil para el objeto\n",
    "* Métodos (funciones): operaciones sobre el propio objeto\n",
    "Los atributos son accesibles con la siguiente notación: `objeto.atributo`\n",
    "\n",
    "Existen dos modos en que un objeto es usado en una función:"
   ]
  },
  {
   "cell_type": "code",
   "execution_count": 26,
   "id": "b9936131-4fe9-4474-a9d6-6aa1b06fb2f7",
   "metadata": {},
   "outputs": [
    {
     "data": {
      "text/plain": [
       "3"
      ]
     },
     "execution_count": 26,
     "metadata": {},
     "output_type": "execute_result"
    }
   ],
   "source": [
    "# Pensándolo como un argumento explícito\n",
    "a=-3\n",
    "abs(a)"
   ]
  },
  {
   "cell_type": "code",
   "execution_count": 30,
   "id": "88b74bbd-e483-45c9-af53-00c0b29d3f0b",
   "metadata": {},
   "outputs": [
    {
     "data": {
      "text/plain": [
       "'HOLA'"
      ]
     },
     "execution_count": 30,
     "metadata": {},
     "output_type": "execute_result"
    }
   ],
   "source": [
    "# Llamandolo a uno de sus métodos: \n",
    "a = 'hola'\n",
    "a.upper() #atributo método"
   ]
  },
  {
   "cell_type": "markdown",
   "id": "22c9c4e1-139d-4698-8a8c-a3497d8d1ea8",
   "metadata": {},
   "source": [
    "Sea $z = 1+3i\\in\\mathbb{C}$, entonces"
   ]
  },
  {
   "cell_type": "code",
   "execution_count": 47,
   "id": "6d380135-9a13-41c5-98ac-0c9b1b983b9d",
   "metadata": {},
   "outputs": [
    {
     "name": "stdout",
     "output_type": "stream",
     "text": [
      "3.0\n",
      "1.0\n",
      "La parte real de (1+3j) es 1.0\n",
      "(1-3j)\n"
     ]
    }
   ],
   "source": [
    "a = 1 + 3j # j denota a la parte imaginaria del complejo\n",
    "im = a.imag #atributo dato (parte imaginaria)\n",
    "re = a.real\n",
    "conj = a.conjugate()\n",
    "print(im)\n",
    "print(re)\n",
    "print(\"La parte real de\", a, \"es\", re)\n",
    "print(conj)"
   ]
  },
  {
   "cell_type": "markdown",
   "id": "4acbcec4-3091-4320-bd28-d2d8feace387",
   "metadata": {},
   "source": [
    "## Tipos y variables\n",
    "\n",
    "Todo objeto tiene un tipo asociado:"
   ]
  },
  {
   "cell_type": "code",
   "execution_count": 49,
   "id": "84cda719-0fe6-4c41-890d-a222a1f96188",
   "metadata": {},
   "outputs": [
    {
     "data": {
      "text/plain": [
       "int"
      ]
     },
     "execution_count": 49,
     "metadata": {},
     "output_type": "execute_result"
    }
   ],
   "source": [
    "type(3)"
   ]
  },
  {
   "cell_type": "code",
   "execution_count": 51,
   "id": "8ed694bd-c65b-4736-ac6d-47620d5e2209",
   "metadata": {},
   "outputs": [
    {
     "data": {
      "text/plain": [
       "float"
      ]
     },
     "execution_count": 51,
     "metadata": {},
     "output_type": "execute_result"
    }
   ],
   "source": [
    "type(3.1415)"
   ]
  },
  {
   "cell_type": "code",
   "execution_count": 53,
   "id": "86c73bfc-62af-4479-b390-9613f3d456f3",
   "metadata": {},
   "outputs": [
    {
     "data": {
      "text/plain": [
       "str"
      ]
     },
     "execution_count": 53,
     "metadata": {},
     "output_type": "execute_result"
    }
   ],
   "source": [
    "type('3')"
   ]
  },
  {
   "cell_type": "code",
   "execution_count": 55,
   "id": "9e440a15-8108-4a3c-99ed-2b6c863bd1c1",
   "metadata": {},
   "outputs": [
    {
     "ename": "TypeError",
     "evalue": "unsupported operand type(s) for +: 'int' and 'str'",
     "output_type": "error",
     "traceback": [
      "\u001b[1;31m---------------------------------------------------------------------------\u001b[0m",
      "\u001b[1;31mTypeError\u001b[0m                                 Traceback (most recent call last)",
      "Cell \u001b[1;32mIn[55], line 1\u001b[0m\n\u001b[1;32m----> 1\u001b[0m \u001b[38;5;241m3\u001b[39m \u001b[38;5;241m+\u001b[39m \u001b[38;5;124m'\u001b[39m\u001b[38;5;124m3\u001b[39m\u001b[38;5;124m'\u001b[39m\n",
      "\u001b[1;31mTypeError\u001b[0m: unsupported operand type(s) for +: 'int' and 'str'"
     ]
    }
   ],
   "source": [
    "3 + '3' # no hay conversión de tips automático"
   ]
  },
  {
   "cell_type": "code",
   "execution_count": 57,
   "id": "37e49985-9f6f-47cc-99ae-d4ce36d5bdaf",
   "metadata": {},
   "outputs": [
    {
     "data": {
      "text/plain": [
       "6"
      ]
     },
     "execution_count": 57,
     "metadata": {},
     "output_type": "execute_result"
    }
   ],
   "source": [
    "3 + int('3')"
   ]
  },
  {
   "cell_type": "code",
   "execution_count": 59,
   "id": "3186d34b-4597-48fa-a420-36de7af243d4",
   "metadata": {},
   "outputs": [
    {
     "data": {
      "text/plain": [
       "'33'"
      ]
     },
     "execution_count": 59,
     "metadata": {},
     "output_type": "execute_result"
    }
   ],
   "source": [
    "str(3) + '3'"
   ]
  },
  {
   "cell_type": "markdown",
   "id": "5ab86c2d-5905-4cef-913b-ac8638bb9fc9",
   "metadata": {},
   "source": [
    "### Listas\n",
    "Una lista es una manera de organizar objetos"
   ]
  },
  {
   "cell_type": "code",
   "execution_count": 64,
   "id": "a533cbe1-cf8e-427a-84ef-444f0bc97368",
   "metadata": {},
   "outputs": [
    {
     "data": {
      "text/plain": [
       "[1, 3.14, 'Hola', False, True, {'A', 'S'}]"
      ]
     },
     "execution_count": 64,
     "metadata": {},
     "output_type": "execute_result"
    }
   ],
   "source": [
    "lista_1 = [ 1, 3.14, \"Hola\", False, True, {\"A\",\"S\"}]\n",
    "lista_1"
   ]
  },
  {
   "cell_type": "code",
   "execution_count": 68,
   "id": "b4d3717b-3591-4e81-b7c4-1c85b9628377",
   "metadata": {},
   "outputs": [
    {
     "data": {
      "text/plain": [
       "list"
      ]
     },
     "execution_count": 68,
     "metadata": {},
     "output_type": "execute_result"
    }
   ],
   "source": [
    "type(lista_1) #nos indica el tipo de objeto"
   ]
  },
  {
   "cell_type": "markdown",
   "id": "265d65f6-06e4-495b-b2ad-466fe994d0d3",
   "metadata": {},
   "source": [
    "Si tengo una lista\n",
    "$$ L = [e_1, e_2 , \\dots, e_n]$$\n",
    "entonces si quiero ingresar a alguno de los elementos $e_i$\n",
    "$$ L[i-1]$$"
   ]
  },
  {
   "cell_type": "code",
   "execution_count": 71,
   "id": "522c493d-1719-4d67-ab69-7ad8e8481c24",
   "metadata": {},
   "outputs": [
    {
     "data": {
      "text/plain": [
       "1"
      ]
     },
     "execution_count": 71,
     "metadata": {},
     "output_type": "execute_result"
    }
   ],
   "source": [
    "lista_1[0]"
   ]
  },
  {
   "cell_type": "code",
   "execution_count": 75,
   "id": "0dcc6795-7812-4e01-b603-f97cf97b04d6",
   "metadata": {},
   "outputs": [
    {
     "data": {
      "text/plain": [
       "{'A', 'S'}"
      ]
     },
     "execution_count": 75,
     "metadata": {},
     "output_type": "execute_result"
    }
   ],
   "source": [
    "lista_1[5]"
   ]
  },
  {
   "cell_type": "code",
   "execution_count": 77,
   "id": "f5a29ff8-3eba-486a-aada-cefc1a7d4262",
   "metadata": {},
   "outputs": [
    {
     "data": {
      "text/plain": [
       "set"
      ]
     },
     "execution_count": 77,
     "metadata": {},
     "output_type": "execute_result"
    }
   ],
   "source": [
    "type(lista_1[5])"
   ]
  },
  {
   "cell_type": "code",
   "execution_count": 79,
   "id": "7d41b65f-88ef-4f02-8659-d1941247b1da",
   "metadata": {},
   "outputs": [
    {
     "ename": "IndexError",
     "evalue": "list index out of range",
     "output_type": "error",
     "traceback": [
      "\u001b[1;31m---------------------------------------------------------------------------\u001b[0m",
      "\u001b[1;31mIndexError\u001b[0m                                Traceback (most recent call last)",
      "Cell \u001b[1;32mIn[79], line 1\u001b[0m\n\u001b[1;32m----> 1\u001b[0m lista_1[\u001b[38;5;241m6\u001b[39m]\n",
      "\u001b[1;31mIndexError\u001b[0m: list index out of range"
     ]
    }
   ],
   "source": [
    "lista_1[6]"
   ]
  },
  {
   "cell_type": "markdown",
   "id": "d4d393dd-8d88-4c56-a729-db38cabe823a",
   "metadata": {},
   "source": [
    "Generador de índice (etiquetas en Python), esto se llama `range(n)`"
   ]
  },
  {
   "cell_type": "code",
   "execution_count": 81,
   "id": "27b82111-d8d5-4f83-900e-9c304631e147",
   "metadata": {},
   "outputs": [
    {
     "data": {
      "text/plain": [
       "range(0, 10)"
      ]
     },
     "execution_count": 81,
     "metadata": {},
     "output_type": "execute_result"
    }
   ],
   "source": [
    "range(10)"
   ]
  },
  {
   "cell_type": "code",
   "execution_count": 87,
   "id": "d41331fb-4a0b-497e-b139-99ff4d3fa1b8",
   "metadata": {},
   "outputs": [
    {
     "name": "stdout",
     "output_type": "stream",
     "text": [
      "0\n",
      "1\n",
      "2\n",
      "3\n",
      "4\n",
      "5\n",
      "6\n",
      "7\n",
      "8\n",
      "9\n"
     ]
    }
   ],
   "source": [
    "for i in range(10):\n",
    "    print(i)"
   ]
  },
  {
   "cell_type": "code",
   "execution_count": 93,
   "id": "3068e68d-1a4a-4f8e-a0be-1aaabf27b600",
   "metadata": {},
   "outputs": [
    {
     "data": {
      "text/plain": [
       "[0, 1, 2, 3, 4, 5, 6, 7, 8, 9]"
      ]
     },
     "execution_count": 93,
     "metadata": {},
     "output_type": "execute_result"
    }
   ],
   "source": [
    "lista_2 = [i for i in range(10)]\n",
    "lista_2 "
   ]
  },
  {
   "cell_type": "code",
   "execution_count": 101,
   "id": "62d7d7d7-201e-4fde-acaf-39233153eedf",
   "metadata": {},
   "outputs": [
    {
     "data": {
      "text/plain": [
       "[1, 2, 3, 4, 5, 6, 7, 8, 9]"
      ]
     },
     "execution_count": 101,
     "metadata": {},
     "output_type": "execute_result"
    }
   ],
   "source": [
    "lista_3 = [i for i in range(1,10)]\n",
    "lista_3"
   ]
  }
 ],
 "metadata": {
  "kernelspec": {
   "display_name": "Python [conda env:base] *",
   "language": "python",
   "name": "conda-base-py"
  },
  "language_info": {
   "codemirror_mode": {
    "name": "ipython",
    "version": 3
   },
   "file_extension": ".py",
   "mimetype": "text/x-python",
   "name": "python",
   "nbconvert_exporter": "python",
   "pygments_lexer": "ipython3",
   "version": "3.12.7"
  }
 },
 "nbformat": 4,
 "nbformat_minor": 5
}
