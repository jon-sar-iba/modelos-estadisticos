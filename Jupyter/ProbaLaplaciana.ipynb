{
 "cells": [
  {
   "cell_type": "markdown",
   "id": "ab494890-cea1-47f8-97de-7f4de0ec4174",
   "metadata": {},
   "source": [
    "# Probabilidad Laplaciana (clásica)\n",
    "Para un experimento aleatorio, se tiene que $\\Omega$ es el espacio muestral.\n",
    "\n",
    "Sea $A$ un evento, entonces\n",
    "\n",
    "$$ \\mathbb{P}(A) = \\frac{\\#A}{\\#\\Omega} $$\n",
    "\n",
    "**EJEMPLO:** Sea el experimento de lanzar una moneda 3 veces, de manera independiente (es decir, el $i$-ésimo lanzamiento no me afecta al $i+1$ lanzamiento). El espacio muestral de este experimento es:\n",
    "\n",
    "$$ \\Omega = \\{A,S\\} \\times \\{A,S\\} \\times \\{A,S\\} = \\{A,S\\}^3 $$\n",
    "y tenemos que $\\#\\Omega = 2^3$.\n",
    "\n",
    "Sean los eventos:\n",
    "* $A$: todos los resultados son águila\n",
    "* $S$: todos los resultados son soles\n",
    "* $E$: Por lo menos un resultado es sol\n",
    "Calcular las probabilidades de estos eventos:\n",
    "\n",
    "**Solución** Vamos a descomponer mi conjunto $A$ de la siguiente manera:\n",
    "$$A = A_1 \\cap A_2 \\cap A_3 $$\n",
    "donde $A_i$: caé águila en el $i$-ésimo resultado."
   ]
  },
  {
   "cell_type": "code",
   "execution_count": 21,
   "id": "3f14bb3f-5cbf-432a-9482-a2fbb7201452",
   "metadata": {},
   "outputs": [
    {
     "data": {
      "text/plain": [
       "{('A', 'A', 'A'),\n",
       " ('A', 'A', 'S'),\n",
       " ('A', 'S', 'A'),\n",
       " ('A', 'S', 'S'),\n",
       " ('S', 'A', 'A'),\n",
       " ('S', 'A', 'S'),\n",
       " ('S', 'S', 'A'),\n",
       " ('S', 'S', 'S')}"
      ]
     },
     "execution_count": 21,
     "metadata": {},
     "output_type": "execute_result"
    }
   ],
   "source": [
    "# Vamos a crear el espacio muestral\n",
    "import itertools #importamos el modulo\n",
    "from itertools import product\n",
    "\n",
    "Omega = set( product({\"A\",\"S\"},repeat=3 ))\n",
    "Omega"
   ]
  },
  {
   "cell_type": "code",
   "execution_count": 27,
   "id": "2ddc618a-9fbd-4c4f-9882-9acef29830b3",
   "metadata": {},
   "outputs": [
    {
     "data": {
      "text/plain": [
       "8"
      ]
     },
     "execution_count": 27,
     "metadata": {},
     "output_type": "execute_result"
    }
   ],
   "source": [
    "len(Omega) # cardinalidad de Omega"
   ]
  },
  {
   "cell_type": "code",
   "execution_count": 29,
   "id": "3d9729e7-f4a9-4b56-b80b-ddb93f28bca6",
   "metadata": {},
   "outputs": [
    {
     "data": {
      "text/plain": [
       "{('A', 'A', 'A'), ('A', 'A', 'S'), ('A', 'S', 'A'), ('A', 'S', 'S')}"
      ]
     },
     "execution_count": 29,
     "metadata": {},
     "output_type": "execute_result"
    }
   ],
   "source": [
    "# Vamos a crear el evento A_1\n",
    "A_1 = { om for om in Omega if om[0]==\"A\"} # la primera coordenada es águila\n",
    "A_1"
   ]
  },
  {
   "cell_type": "code",
   "execution_count": 31,
   "id": "fd18265c-7d78-4594-bfbd-c83125602eee",
   "metadata": {},
   "outputs": [
    {
     "data": {
      "text/plain": [
       "{('A', 'A', 'A'), ('A', 'A', 'S'), ('S', 'A', 'A'), ('S', 'A', 'S')}"
      ]
     },
     "execution_count": 31,
     "metadata": {},
     "output_type": "execute_result"
    }
   ],
   "source": [
    "# Vamos a crear el evento A_2\n",
    "A_2 = { om for om in Omega if om[1]==\"A\"} # la segunda coordenada es águila\n",
    "A_2"
   ]
  },
  {
   "cell_type": "code",
   "execution_count": 33,
   "id": "fcedf772-c10b-42eb-bcd1-2609e928b7f6",
   "metadata": {},
   "outputs": [
    {
     "data": {
      "text/plain": [
       "{('A', 'A', 'A'), ('A', 'S', 'A'), ('S', 'A', 'A'), ('S', 'S', 'A')}"
      ]
     },
     "execution_count": 33,
     "metadata": {},
     "output_type": "execute_result"
    }
   ],
   "source": [
    "# Vamos a crear el evento A_3\n",
    "A_3 = { om for om in Omega if om[2]==\"A\"} # la tercera coordenada es águila\n",
    "A_3"
   ]
  },
  {
   "cell_type": "code",
   "execution_count": 35,
   "id": "3d2df1cd-fef2-4118-9e1b-684e29dec5df",
   "metadata": {},
   "outputs": [
    {
     "data": {
      "text/plain": [
       "{('A', 'A', 'A')}"
      ]
     },
     "execution_count": 35,
     "metadata": {},
     "output_type": "execute_result"
    }
   ],
   "source": [
    "# Vamos a crear el evento A \n",
    "A = A_1.intersection(A_2.intersection(A_3))\n",
    "A"
   ]
  },
  {
   "cell_type": "code",
   "execution_count": 37,
   "id": "1e85025c-737d-4d29-b537-ad1c974dc245",
   "metadata": {},
   "outputs": [
    {
     "data": {
      "text/plain": [
       "1"
      ]
     },
     "execution_count": 37,
     "metadata": {},
     "output_type": "execute_result"
    }
   ],
   "source": [
    "len(A)"
   ]
  },
  {
   "cell_type": "code",
   "execution_count": 41,
   "id": "a9befcc4-9965-4dc1-8889-085a245bd099",
   "metadata": {},
   "outputs": [
    {
     "data": {
      "text/plain": [
       "0.125"
      ]
     },
     "execution_count": 41,
     "metadata": {},
     "output_type": "execute_result"
    }
   ],
   "source": [
    "# Vamos a calcular la probabilidad de A\n",
    "P_A = len(A) / len(Omega)\n",
    "P_A"
   ]
  },
  {
   "cell_type": "markdown",
   "id": "cd54a257-0e41-44ee-9304-f72ba089cbc0",
   "metadata": {},
   "source": [
    "Yo quiero expresar mi resultado en fracción, esto se hace de la siguiente manera:"
   ]
  },
  {
   "cell_type": "code",
   "execution_count": 43,
   "id": "d21ade82-1215-42ea-92b3-9752417cb12f",
   "metadata": {},
   "outputs": [],
   "source": [
    "from fractions import Fraction\n",
    "\n",
    "def p(E,Omega):\n",
    "    p = Fraction(len(E),len(Omega))\n",
    "    return p"
   ]
  },
  {
   "cell_type": "code",
   "execution_count": 45,
   "id": "a78c395c-e87e-43da-83b1-ff947082d4f6",
   "metadata": {},
   "outputs": [
    {
     "data": {
      "text/plain": [
       "Fraction(1, 8)"
      ]
     },
     "execution_count": 45,
     "metadata": {},
     "output_type": "execute_result"
    }
   ],
   "source": [
    "prob = p(A,Omega)\n",
    "prob"
   ]
  },
  {
   "cell_type": "code",
   "execution_count": null,
   "id": "9ebc30ab-f043-44e2-a615-49f96088e478",
   "metadata": {},
   "outputs": [],
   "source": []
  }
 ],
 "metadata": {
  "kernelspec": {
   "display_name": "Python 3 (ipykernel)",
   "language": "python",
   "name": "python3"
  },
  "language_info": {
   "codemirror_mode": {
    "name": "ipython",
    "version": 3
   },
   "file_extension": ".py",
   "mimetype": "text/x-python",
   "name": "python",
   "nbconvert_exporter": "python",
   "pygments_lexer": "ipython3",
   "version": "3.12.3"
  }
 },
 "nbformat": 4,
 "nbformat_minor": 5
}
