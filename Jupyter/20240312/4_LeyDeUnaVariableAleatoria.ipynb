{
 "cells": [
  {
   "cell_type": "markdown",
   "id": "eac0817b-99a2-4d8b-b66c-aecd25f6bf01",
   "metadata": {},
   "source": [
    "# 1. El espacio muestral asociado a un experimento aleatorio\n",
    "\n",
    "El espacio muestral $\\Omega$ del experimento aleatorio de lanzar dos dados honestos, esta compuesto por todas las pearejas ordenadas $(i,j)$ tales que $1 \\leq i,j \\leq 6$\n",
    "\n",
    "$$\\Omega = \\{ (i,j) \\mid 1 \\leq i,j \\leq 6 \\} $$\n",
    "y sabemos que $\\#\\Omega = 6^2 = 36$"
   ]
  },
  {
   "cell_type": "code",
   "execution_count": 4,
   "id": "605e576e-0bcd-438f-9dc3-5b2b330fb6c1",
   "metadata": {},
   "outputs": [],
   "source": [
    "#usamos itertools\n",
    "from itertools import product"
   ]
  },
  {
   "cell_type": "code",
   "execution_count": 6,
   "id": "f372a0cc-48c1-4f5f-b659-8c3453645567",
   "metadata": {},
   "outputs": [
    {
     "data": {
      "text/plain": [
       "{(1, 1),\n",
       " (1, 2),\n",
       " (1, 3),\n",
       " (1, 4),\n",
       " (1, 5),\n",
       " (1, 6),\n",
       " (2, 1),\n",
       " (2, 2),\n",
       " (2, 3),\n",
       " (2, 4),\n",
       " (2, 5),\n",
       " (2, 6),\n",
       " (3, 1),\n",
       " (3, 2),\n",
       " (3, 3),\n",
       " (3, 4),\n",
       " (3, 5),\n",
       " (3, 6),\n",
       " (4, 1),\n",
       " (4, 2),\n",
       " (4, 3),\n",
       " (4, 4),\n",
       " (4, 5),\n",
       " (4, 6),\n",
       " (5, 1),\n",
       " (5, 2),\n",
       " (5, 3),\n",
       " (5, 4),\n",
       " (5, 5),\n",
       " (5, 6),\n",
       " (6, 1),\n",
       " (6, 2),\n",
       " (6, 3),\n",
       " (6, 4),\n",
       " (6, 5),\n",
       " (6, 6)}"
      ]
     },
     "execution_count": 6,
     "metadata": {},
     "output_type": "execute_result"
    }
   ],
   "source": [
    "Omega = set(product([1,2,3,4,5,6], repeat = 2))\n",
    "Omega"
   ]
  },
  {
   "cell_type": "code",
   "execution_count": 10,
   "id": "d42a89f8-ac13-4958-b45d-05ddfe70b91d",
   "metadata": {},
   "outputs": [
    {
     "data": {
      "text/plain": [
       "36"
      ]
     },
     "execution_count": 10,
     "metadata": {},
     "output_type": "execute_result"
    }
   ],
   "source": [
    "card_Omega = len(Omega)\n",
    "card_Omega"
   ]
  },
  {
   "cell_type": "markdown",
   "id": "dd5b767e-a8d1-4657-967c-729e10472c29",
   "metadata": {},
   "source": [
    "Sea $S_n$ el evento \"La suma de los dados en $n$\". Esto es: \n",
    "$$S_n=\\{(i,j)\\in\\Omega:i+j=n\\}.$$"
   ]
  },
  {
   "cell_type": "code",
   "execution_count": 14,
   "id": "7ce1796d-1b99-47a1-b69a-0938bfba0186",
   "metadata": {},
   "outputs": [],
   "source": [
    "def S(n):\n",
    "    Sn = {(i,j) for i in range(1,7) for j in range(1,7) if i+j==n}\n",
    "    return Sn"
   ]
  },
  {
   "cell_type": "code",
   "execution_count": 16,
   "id": "0c9eb718-5718-4e1a-9469-b27ef123e20a",
   "metadata": {},
   "outputs": [
    {
     "name": "stdout",
     "output_type": "stream",
     "text": [
      "{(6, 3), (4, 5), (5, 4), (3, 6)}\n"
     ]
    }
   ],
   "source": [
    "print(S(9))"
   ]
  },
  {
   "cell_type": "code",
   "execution_count": 18,
   "id": "207cc4f2-722b-4454-af9a-0c1da65bd909",
   "metadata": {},
   "outputs": [
    {
     "name": "stdout",
     "output_type": "stream",
     "text": [
      "{(6, 6)}\n"
     ]
    }
   ],
   "source": [
    "print(S(12))"
   ]
  },
  {
   "cell_type": "markdown",
   "id": "582ec410-e131-4517-8194-fa05b860cc9b",
   "metadata": {},
   "source": [
    "## 2. La variable aleatoria asociada a $S_n$"
   ]
  },
  {
   "cell_type": "code",
   "execution_count": 21,
   "id": "d0238356-63b2-4db7-a141-9d9fccb062ab",
   "metadata": {},
   "outputs": [],
   "source": [
    "from fractions import Fraction"
   ]
  },
  {
   "cell_type": "code",
   "execution_count": 33,
   "id": "6f4cda2e-9bf7-46e4-8986-dd0eb34cd62b",
   "metadata": {},
   "outputs": [],
   "source": [
    "# Definir la funcion P(A)\n",
    "# Es la probabilidad del evento A definida mediante la definición clásica\n",
    "\n",
    "def P(A):\n",
    "    P = Fraction(len(A), len(Omega))\n",
    "    return P"
   ]
  },
  {
   "cell_type": "code",
   "execution_count": 27,
   "id": "4b8163c6-fb8a-4c5d-ad48-d7e3b1876ff5",
   "metadata": {},
   "outputs": [],
   "source": [
    "# Vamos a definir un diccionario S\n",
    "# (i,j) pares ordenados y los valores de su suma\n",
    "\n",
    "S = {(i,j) : i+j for i,j in Omega} "
   ]
  },
  {
   "cell_type": "code",
   "execution_count": 41,
   "id": "15653b7a-e954-403c-98c3-ed6f69713c8c",
   "metadata": {},
   "outputs": [],
   "source": [
    "# Agrupación de combinaciones por suma\n",
    "\n",
    "from collections import defaultdict\n",
    "\n",
    "dS = defaultdict(set)"
   ]
  },
  {
   "cell_type": "code",
   "execution_count": 43,
   "id": "3da0cf51-e514-48ba-9169-48bb680aaca7",
   "metadata": {},
   "outputs": [],
   "source": [
    "# Vamos a recorrer sobre los elementos en S\n",
    "\n",
    "for i,j in S.items():\n",
    "    \n",
    "    dS[j].add(i)"
   ]
  },
  {
   "cell_type": "code",
   "execution_count": 45,
   "id": "7cdbc974-10be-41a5-88d9-ce9f4f88407e",
   "metadata": {},
   "outputs": [
    {
     "data": {
      "text/plain": [
       "[(7, {(1, 6), (2, 5), (3, 4), (4, 3), (5, 2), (6, 1)}),\n",
       " (4, {(1, 3), (2, 2), (3, 1)}),\n",
       " (9, {(3, 6), (4, 5), (5, 4), (6, 3)}),\n",
       " (10, {(4, 6), (5, 5), (6, 4)}),\n",
       " (6, {(1, 5), (2, 4), (3, 3), (4, 2), (5, 1)}),\n",
       " (8, {(2, 6), (3, 5), (4, 4), (5, 3), (6, 2)}),\n",
       " (11, {(5, 6), (6, 5)}),\n",
       " (3, {(1, 2), (2, 1)}),\n",
       " (5, {(1, 4), (2, 3), (3, 2), (4, 1)}),\n",
       " (2, {(1, 1)}),\n",
       " (12, {(6, 6)})]"
      ]
     },
     "execution_count": 45,
     "metadata": {},
     "output_type": "execute_result"
    }
   ],
   "source": [
    "list(dS.items()) "
   ]
  },
  {
   "cell_type": "code",
   "execution_count": 49,
   "id": "a96de60e-d38b-4bd2-b981-b58810d55711",
   "metadata": {},
   "outputs": [
    {
     "data": {
      "text/plain": [
       "{7: Fraction(1, 6),\n",
       " 4: Fraction(1, 12),\n",
       " 9: Fraction(1, 9),\n",
       " 10: Fraction(1, 12),\n",
       " 6: Fraction(5, 36),\n",
       " 8: Fraction(5, 36),\n",
       " 11: Fraction(1, 18),\n",
       " 3: Fraction(1, 18),\n",
       " 5: Fraction(1, 9),\n",
       " 2: Fraction(1, 36),\n",
       " 12: Fraction(1, 36)}"
      ]
     },
     "execution_count": 49,
     "metadata": {},
     "output_type": "execute_result"
    }
   ],
   "source": [
    "# LeyS almacenar la probabilidad de casa posible suma,\n",
    "# Usando la función P(A)\n",
    "# En otras palabras \"la función de densidad\"\n",
    "# A es el conjunto de pares que producden la suma i\n",
    "\n",
    "leyS = {i : P(A) for i, A in dS.items() }\n",
    "leyS"
   ]
  },
  {
   "cell_type": "code",
   "execution_count": 51,
   "id": "49e50586-ddf4-47fd-ae8f-a98bf3e23388",
   "metadata": {},
   "outputs": [],
   "source": [
    "# Importamos la libreria Pandas\n",
    "\n",
    "import pandas as pd"
   ]
  },
  {
   "cell_type": "markdown",
   "id": "178a3e3c-7d80-43d2-ac9f-460010c10061",
   "metadata": {},
   "source": [
    "Recordemos que una variable aleatoria real $X$, es una función\n",
    "$$X : \\Omega \\to \\mathbb{R}$$\n",
    "\n",
    "Sabemos que la función de densidad de una v.a. discreta $X$, se define como sigue:\n",
    "$$ f_X(x) = \\begin{cases} \\mathbb{P}(X=x), \\quad \\text{si } x\\in R_{X} \\\\ 0, \\quad \\text{e.o.c} \\end{cases} $$\n",
    "donde $R_X$ es el rango de la v.a. $X$."
   ]
  },
  {
   "cell_type": "markdown",
   "id": "829af794-2b0b-4c39-98b0-9db56e70bd88",
   "metadata": {},
   "source": [
    "Para nuestro evento $S_n$, se tiene la siguiente variable aleatoria\n",
    "$$ S : \\Omega \\to \\{2,3,4,5,6,7,8,9,10,11,12\\}$$"
   ]
  },
  {
   "cell_type": "code",
   "execution_count": 62,
   "id": "e95bfd6b-300d-437a-b988-fa8f0d10227f",
   "metadata": {},
   "outputs": [
    {
     "data": {
      "text/plain": [
       "2     1/36\n",
       "3     1/18\n",
       "4     1/12\n",
       "5      1/9\n",
       "6     5/36\n",
       "7      1/6\n",
       "8     5/36\n",
       "9      1/9\n",
       "10    1/12\n",
       "11    1/18\n",
       "12    1/36\n",
       "dtype: object"
      ]
     },
     "execution_count": 62,
     "metadata": {},
     "output_type": "execute_result"
    }
   ],
   "source": [
    "# Vamos a crear una serie \n",
    "\n",
    "ley_S = pd.Series(leyS)\n",
    "ley_S.sort_index() #ordenar"
   ]
  },
  {
   "cell_type": "code",
   "execution_count": null,
   "id": "b8f2df51-f0a1-4056-8bc6-57842b3aeee1",
   "metadata": {},
   "outputs": [],
   "source": [
    "import numpy as np # Importar la liberia"
   ]
  },
  {
   "cell_type": "code",
   "execution_count": 68,
   "id": "51435f3f-430d-4382-966a-549884d2320e",
   "metadata": {},
   "outputs": [],
   "source": [
    "# LeyS(i) devuelve la probabilidad de obtener la suma i, si está en el rango de posibles sumas\n",
    "\n",
    "def leyS(i):\n",
    "    if i in range(2,13):\n",
    "        x = ley_S[i]\n",
    "    else:\n",
    "        x = 0 # si no está en el rango me devuelve cero\n",
    "    return x"
   ]
  },
  {
   "cell_type": "code",
   "execution_count": 74,
   "id": "920e5a3b-73cf-4e6a-9fb8-0cdf95157a1a",
   "metadata": {},
   "outputs": [],
   "source": [
    "# Vamos a crear el rango de S\n",
    "\n",
    "#creo una lista con los posibles valores\n",
    "rango_S = [k for k in range(2,13)]\n",
    "\n",
    "#Obtenemos la probabilidad de cada suma \n",
    "p_k = [float(leyS(k)) for k in rango_S]"
   ]
  },
  {
   "cell_type": "code",
   "execution_count": 76,
   "id": "8953c02c-7bcf-4661-89bf-c4b8207c5f9e",
   "metadata": {},
   "outputs": [
    {
     "data": {
      "text/html": [
       "<div>\n",
       "<style scoped>\n",
       "    .dataframe tbody tr th:only-of-type {\n",
       "        vertical-align: middle;\n",
       "    }\n",
       "\n",
       "    .dataframe tbody tr th {\n",
       "        vertical-align: top;\n",
       "    }\n",
       "\n",
       "    .dataframe thead th {\n",
       "        text-align: right;\n",
       "    }\n",
       "</style>\n",
       "<table border=\"1\" class=\"dataframe\">\n",
       "  <thead>\n",
       "    <tr style=\"text-align: right;\">\n",
       "      <th></th>\n",
       "      <th>rango</th>\n",
       "      <th>densidad</th>\n",
       "    </tr>\n",
       "  </thead>\n",
       "  <tbody>\n",
       "    <tr>\n",
       "      <th>S_2</th>\n",
       "      <td>2</td>\n",
       "      <td>0.027778</td>\n",
       "    </tr>\n",
       "    <tr>\n",
       "      <th>S_3</th>\n",
       "      <td>3</td>\n",
       "      <td>0.055556</td>\n",
       "    </tr>\n",
       "    <tr>\n",
       "      <th>S_4</th>\n",
       "      <td>4</td>\n",
       "      <td>0.083333</td>\n",
       "    </tr>\n",
       "    <tr>\n",
       "      <th>S_5</th>\n",
       "      <td>5</td>\n",
       "      <td>0.111111</td>\n",
       "    </tr>\n",
       "    <tr>\n",
       "      <th>S_6</th>\n",
       "      <td>6</td>\n",
       "      <td>0.138889</td>\n",
       "    </tr>\n",
       "    <tr>\n",
       "      <th>S_7</th>\n",
       "      <td>7</td>\n",
       "      <td>0.166667</td>\n",
       "    </tr>\n",
       "    <tr>\n",
       "      <th>S_8</th>\n",
       "      <td>8</td>\n",
       "      <td>0.138889</td>\n",
       "    </tr>\n",
       "    <tr>\n",
       "      <th>S_9</th>\n",
       "      <td>9</td>\n",
       "      <td>0.111111</td>\n",
       "    </tr>\n",
       "    <tr>\n",
       "      <th>S_10</th>\n",
       "      <td>10</td>\n",
       "      <td>0.083333</td>\n",
       "    </tr>\n",
       "    <tr>\n",
       "      <th>S_11</th>\n",
       "      <td>11</td>\n",
       "      <td>0.055556</td>\n",
       "    </tr>\n",
       "    <tr>\n",
       "      <th>S_12</th>\n",
       "      <td>12</td>\n",
       "      <td>0.027778</td>\n",
       "    </tr>\n",
       "  </tbody>\n",
       "</table>\n",
       "</div>"
      ],
      "text/plain": [
       "      rango  densidad\n",
       "S_2       2  0.027778\n",
       "S_3       3  0.055556\n",
       "S_4       4  0.083333\n",
       "S_5       5  0.111111\n",
       "S_6       6  0.138889\n",
       "S_7       7  0.166667\n",
       "S_8       8  0.138889\n",
       "S_9       9  0.111111\n",
       "S_10     10  0.083333\n",
       "S_11     11  0.055556\n",
       "S_12     12  0.027778"
      ]
     },
     "execution_count": 76,
     "metadata": {},
     "output_type": "execute_result"
    }
   ],
   "source": [
    "# Creamos un DataFrame con:\n",
    "# - los valores del rango_S\n",
    "# - las probabilidades p_k\n",
    "# Indexamos una etiqueta S_2,...,S_12\n",
    "\n",
    "# zip() -> toma dos listas y las combina en pares ordenados\n",
    "lS = pd.DataFrame(list(zip(rango_S, p_k)), index=[f\"S_{i}\" for i in range(2,13)], columns = ['rango','densidad'])\n",
    "lS"
   ]
  },
  {
   "cell_type": "code",
   "execution_count": 78,
   "id": "59e96c75-c8d0-403d-b86a-4dca78ca5543",
   "metadata": {},
   "outputs": [
    {
     "data": {
      "text/plain": [
       "<Axes: xlabel='rango'>"
      ]
     },
     "execution_count": 78,
     "metadata": {},
     "output_type": "execute_result"
    },
    {
     "data": {
      "image/png": "[encoded data removed]",
      "text/plain": [
       "<Figure size 640x480 with 1 Axes>"
      ]
     },
     "metadata": {},
     "output_type": "display_data"
    }
   ],
   "source": [
    "lS.plot.bar( x= 'rango', y = 'densidad')"
   ]
  }
 ],
 "metadata": {
  "kernelspec": {
   "display_name": "Python [conda env:base] *",
   "language": "python",
   "name": "conda-base-py"
  },
  "language_info": {
   "codemirror_mode": {
    "name": "ipython",
    "version": 3
   },
   "file_extension": ".py",
   "mimetype": "text/x-python",
   "name": "python",
   "nbconvert_exporter": "python",
   "pygments_lexer": "ipython3",
   "version": "3.12.7"
  }
 },
 "nbformat": 4,
 "nbformat_minor": 5
}
