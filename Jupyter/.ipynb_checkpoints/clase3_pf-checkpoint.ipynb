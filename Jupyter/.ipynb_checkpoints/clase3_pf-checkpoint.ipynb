{
 "cells": [
  {
   "cell_type": "markdown",
   "id": "5c57b424-1f62-4b9e-99ac-7c74305a1ac5",
   "metadata": {},
   "source": [
    "***Clase2_probabilidadfrecuentista***\n",
    "Tenemos la hipótesis de que el espacio es un conjunto finito, y podemos definir la probabilidad asociada a un evento $A$:\n",
    "\n",
    "$$ f_n(A) = \\frac{A} $$\n",
    "\n",
    "donde n(A) denota al número de veces que ocurre $A$, y n es el número de veces en que se realiza el experimento."
   ]
  },
  {
   "cell_type": "code",
   "execution_count": 1,
   "id": "78476bf3-e367-448b-accd-bdf3a677f215",
   "metadata": {},
   "outputs": [],
   "source": [
    "import random"
   ]
  },
  {
   "cell_type": "markdown",
   "id": "ad525fea-2b62-406c-960d-7e128cf1a2fb",
   "metadata": {},
   "source": [
    "Se tiene el lanzamiento de monedas injustas (volado)"
   ]
  },
  {
   "cell_type": "code",
   "execution_count": 4,
   "id": "919e908b-eeb3-47a8-b63c-112e6c987042",
   "metadata": {},
   "outputs": [],
   "source": [
    "def volado(p):\n",
    "    return 'sol' if random.random() < p else 'aguila'"
   ]
  },
  {
   "cell_type": "code",
   "execution_count": 5,
   "id": "f0f993b4-1250-4cca-85c4-db05e62e4163",
   "metadata": {},
   "outputs": [
    {
     "data": {
      "text/plain": [
       "'aguila'"
      ]
     },
     "execution_count": 5,
     "metadata": {},
     "output_type": "execute_result"
    }
   ],
   "source": [
    "volado(0.4)"
   ]
  },
  {
   "cell_type": "code",
   "execution_count": 7,
   "id": "e649be8d-b6e8-4416-95fc-048880dfbdb6",
   "metadata": {},
   "outputs": [
    {
     "data": {
      "text/plain": [
       "['aguila',\n",
       " 'aguila',\n",
       " 'aguila',\n",
       " 'aguila',\n",
       " 'sol',\n",
       " 'aguila',\n",
       " 'aguila',\n",
       " 'sol',\n",
       " 'aguila',\n",
       " 'sol']"
      ]
     },
     "execution_count": 7,
     "metadata": {},
     "output_type": "execute_result"
    }
   ],
   "source": [
    "a = [volado(0.4) for i in range(10)]\n",
    "a"
   ]
  },
  {
   "cell_type": "code",
   "execution_count": 9,
   "id": "052af97d-82db-4177-8a2d-234a95b8f9c0",
   "metadata": {},
   "outputs": [
    {
     "data": {
      "text/plain": [
       "3"
      ]
     },
     "execution_count": 9,
     "metadata": {},
     "output_type": "execute_result"
    }
   ],
   "source": [
    "a.count('sol')"
   ]
  },
  {
   "cell_type": "code",
   "execution_count": 16,
   "id": "bcc41b99-04bb-4236-a15e-53848a5705ac",
   "metadata": {},
   "outputs": [],
   "source": [
    "resultados = []"
   ]
  },
  {
   "cell_type": "code",
   "execution_count": 17,
   "id": "1e2df064-46b9-4036-8631-bdf3e4f6ea7b",
   "metadata": {},
   "outputs": [],
   "source": [
    "for i in range(10):\n",
    "    resultado = volado(0.4)\n",
    "    resultados.append(resultado)\n",
    "\n",
    "resultados"
   ]
  },
  {
   "cell_type": "code",
   "execution_count": null,
   "id": "408f70c8-a2e1-40e2-ac19-7fa2c51af7f7",
   "metadata": {},
   "outputs": [],
   "source": []
  }
 ],
 "metadata": {
  "kernelspec": {
   "display_name": "Python 3 (ipykernel)",
   "language": "python",
   "name": "python3"
  },
  "language_info": {
   "codemirror_mode": {
    "name": "ipython",
    "version": 3
   },
   "file_extension": ".py",
   "mimetype": "text/x-python",
   "name": "python",
   "nbconvert_exporter": "python",
   "pygments_lexer": "ipython3",
   "version": "3.12.3"
  }
 },
 "nbformat": 4,
 "nbformat_minor": 5
}
