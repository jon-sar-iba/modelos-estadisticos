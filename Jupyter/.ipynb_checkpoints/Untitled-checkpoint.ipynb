{
 "cells": [
  {
   "cell_type": "markdown",
   "id": "3861d380-3498-4256-92c3-b649f2d029fa",
   "metadata": {},
   "source": [
    "# Experiencia profesional\n",
    "\n",
    "## - Proceso automatizado. Verificación de datos con la API de RENAPO (Python)\n",
    "    - Manipulación de SQL Server\n",
    "\n",
    "## - Migración del protocolo SMTP a OAuth 2.0\n",
    "    - Configuración y autenticación con OAuth 2.0 para envío de correos.\n",
    "    - Documentación del proceso de migración.\n",
    "    - Pruebas de funcionalidad y corrección de errores.\n",
    "\n",
    "## - Mantenimiento a los sistemas presentes (.NET)\n",
    "    - Resolución de incidencias en sistemas legacy.\n",
    "    - Implementación de mejoras y actualizaciones.\n",
    "    - Colaboración con el equipo para la optimización del código.\n",
    "\n",
    "## - Sistema con java\n",
    "    - Problema que nos hizo parir cuate \"que se hace en estos casos cuando llorar no se puede jaja\"\n",
    "    - Inicio de migración de dicho sistema (documentación)\n",
    "        - Flujo de eventos\n",
    "        - SQL\n",
    "            - Corroborar dichos scripts con las reglas del negocio\n",
    "            - Creación de SPD a partir de querys en código duro (optimización)\n",
    "\n",
    "# - Proyecto por fuera (Gym)\n",
    "    - Sistema de resportes y control de pagos\n",
    "    - Proceso automatizado para actualizar acces en base al registro en el sistema anterior\n",
    "        - Esto fué a causa de que no se tenía el código fuente del sitema original y ni\n",
    "            las claves del servidor del lector de huellas\n",
    "        - Este proceso migraba los datos de sql server a access\n",
    "\n",
    "# Experiencia académica\n",
    "\n",
    "## - Creación de un Data Warehouse\n",
    "    - Diseño del modelo de datos.\n",
    "    - Procesamiento ETL.\n",
    "    - Implementación de consultas SQL para análisis de datos.\n",
    "\n",
    "## - Creación de un sistema web con Spring Boot y React\n",
    "    - Desarrollo del backend con Spring Boot.\n",
    "    - Creación de la interfaz de usuario con React.\n",
    "    - Integración de servicios RESTful.\n",
    "\n",
    "## - Parseo de datos\n",
    "    - Implementación de algoritmos para el procesamiento de datos.\n",
    "    - Uso de herramientas como Pandas (Python) para el análisis.\n",
    "    - Generación de reportes automatizados."
   ]
  },
  {
   "cell_type": "code",
   "execution_count": null,
   "id": "2d3e9c99-7820-497b-9f4a-7ddc192f3022",
   "metadata": {},
   "outputs": [],
   "source": []
  }
 ],
 "metadata": {
  "kernelspec": {
   "display_name": "Python 3 (ipykernel)",
   "language": "python",
   "name": "python3"
  },
  "language_info": {
   "codemirror_mode": {
    "name": "ipython",
    "version": 3
   },
   "file_extension": ".py",
   "mimetype": "text/x-python",
   "name": "python",
   "nbconvert_exporter": "python",
   "pygments_lexer": "ipython3",
   "version": "3.12.3"
  }
 },
 "nbformat": 4,
 "nbformat_minor": 5
}
