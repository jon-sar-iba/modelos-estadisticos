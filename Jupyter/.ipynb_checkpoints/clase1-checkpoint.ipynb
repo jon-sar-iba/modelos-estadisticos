{
 "cells": [
  {
   "cell_type": "markdown",
   "id": "1e63b98b-a663-45c6-91d7-67931d087452",
   "metadata": {},
   "source": [
    "# Módulo 2"
   ]
  },
  {
   "cell_type": "markdown",
   "id": "8cc39e7c-556e-46c8-b6f1-25b8e658ef8a",
   "metadata": {},
   "source": [
    "Sea $x \\in \\mathbb{R}, la función piso, se defie como:\n",
    "$$ \\lfloor x \\rfloor = \\max \\{ \\min m\\in\\mathbb{z} \\mid | m \\leq x \\} $$"
   ]
  },
  {
   "cell_type": "markdown",
   "id": "d905bb5c-0fb7-4b3b-bab6-433bfea6b2ea",
   "metadata": {},
   "source": [
    "# operación modular\n",
    "$a,b\\in \\mathbb{R} $\n",
    "El residuo de dividir $a$ entre $b$ se llama operación modular y en python se escribe como:\n",
    "`a%b`"
   ]
  },
  {
   "cell_type": "code",
   "execution_count": 3,
   "id": "7495b535-20e6-4638-a4b9-463457c1a636",
   "metadata": {},
   "outputs": [
    {
     "data": {
      "text/plain": [
       "1"
      ]
     },
     "execution_count": 3,
     "metadata": {},
     "output_type": "execute_result"
    }
   ],
   "source": [
    "5%2"
   ]
  },
  {
   "cell_type": "code",
   "execution_count": null,
   "id": "9358d569-bba8-46c8-bd21-da9d60f9f9d9",
   "metadata": {},
   "outputs": [],
   "source": []
  }
 ],
 "metadata": {
  "kernelspec": {
   "display_name": "Python 3 (ipykernel)",
   "language": "python",
   "name": "python3"
  },
  "language_info": {
   "codemirror_mode": {
    "name": "ipython",
    "version": 3
   },
   "file_extension": ".py",
   "mimetype": "text/x-python",
   "name": "python",
   "nbconvert_exporter": "python",
   "pygments_lexer": "ipython3",
   "version": "3.12.3"
  }
 },
 "nbformat": 4,
 "nbformat_minor": 5
}
