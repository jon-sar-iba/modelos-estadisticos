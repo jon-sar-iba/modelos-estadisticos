{
 "cells": [
  {
   "cell_type": "code",
   "execution_count": 20,
   "id": "9edcdea4-6895-4e9d-8caf-f77321f71dcf",
   "metadata": {},
   "outputs": [],
   "source": [
    "Omega = {i for i in range(2, 12)}"
   ]
  },
  {
   "cell_type": "code",
   "execution_count": 21,
   "id": "fe780b82-6053-43e8-8faf-fc2974a4492d",
   "metadata": {},
   "outputs": [],
   "source": [
    "def S(n):\n",
    "    Sn = {(i,j) for i in range(1,7) for j in range(1,7) if i+j==n}\n",
    "    return Sn"
   ]
  },
  {
   "cell_type": "code",
   "execution_count": 22,
   "id": "6b5da565-d432-4c22-ab31-6dd0c5e2e3dc",
   "metadata": {},
   "outputs": [
    {
     "name": "stdout",
     "output_type": "stream",
     "text": [
      "{(6, 3), (4, 5), (5, 4), (3, 6)}\n"
     ]
    }
   ],
   "source": [
    "print(S(9))"
   ]
  },
  {
   "cell_type": "markdown",
   "id": "ad8435b7-bcd3-46dc-8d9d-68d4701fd218",
   "metadata": {},
   "source": [
    "#****2. La variable aleatoria asociada a S_n****"
   ]
  },
  {
   "cell_type": "code",
   "execution_count": 23,
   "id": "78961057-d7aa-4bd4-b656-df2f10e8777e",
   "metadata": {},
   "outputs": [],
   "source": [
    "from fractions import Fraction"
   ]
  },
  {
   "cell_type": "code",
   "execution_count": 24,
   "id": "0ca782df-abc6-4f99-a1cf-15f31fb3b94a",
   "metadata": {},
   "outputs": [],
   "source": [
    "# Definir la funcion P(A)\n",
    "# Es lla probabilidad del evento A definida mediante la definición clásica\n",
    "\n",
    "def P(A):\n",
    "    P = Fraction(len(A), len(Omega))\n",
    "    return P"
   ]
  },
  {
   "cell_type": "code",
   "execution_count": 26,
   "id": "a8addd57-f4f3-4634-8a1f-5641560be798",
   "metadata": {},
   "outputs": [
    {
     "ename": "TypeError",
     "evalue": "cannot unpack non-iterable int object",
     "output_type": "error",
     "traceback": [
      "\u001b[1;31m---------------------------------------------------------------------------\u001b[0m",
      "\u001b[1;31mTypeError\u001b[0m                                 Traceback (most recent call last)",
      "Cell \u001b[1;32mIn[26], line 4\u001b[0m\n\u001b[0;32m      1\u001b[0m \u001b[38;5;66;03m# Vamos a definir un diccionario S\u001b[39;00m\n\u001b[0;32m      2\u001b[0m \u001b[38;5;66;03m# (i,j) pares ordenados y los valores de su suma\u001b[39;00m\n\u001b[1;32m----> 4\u001b[0m S \u001b[38;5;241m=\u001b[39m {(i,j) : i\u001b[38;5;241m+\u001b[39mj \u001b[38;5;28;01mfor\u001b[39;00m i,j \u001b[38;5;129;01min\u001b[39;00m Omega}\n",
      "\u001b[1;31mTypeError\u001b[0m: cannot unpack non-iterable int object"
     ]
    }
   ],
   "source": [
    "# Vamos a definir un diccionario S\n",
    "# (i,j) pares ordenados y los valores de su suma\n",
    "\n",
    "S = {(i,j) : i+j for i,j in Omega}"
   ]
  },
  {
   "cell_type": "code",
   "execution_count": 7,
   "id": "e11a5ebd-c1b5-4bdf-a9e8-8ab418313701",
   "metadata": {},
   "outputs": [
    {
     "ename": "ModuleNotFoundError",
     "evalue": "No module named 'collection'",
     "output_type": "error",
     "traceback": [
      "\u001b[1;31m---------------------------------------------------------------------------\u001b[0m",
      "\u001b[1;31mModuleNotFoundError\u001b[0m                       Traceback (most recent call last)",
      "Cell \u001b[1;32mIn[7], line 3\u001b[0m\n\u001b[0;32m      1\u001b[0m \u001b[38;5;66;03m# Agrupación de combinaciones por suma\u001b[39;00m\n\u001b[1;32m----> 3\u001b[0m \u001b[38;5;28;01mfrom\u001b[39;00m\u001b[38;5;250m \u001b[39m\u001b[38;5;21;01mcollection\u001b[39;00m\u001b[38;5;250m \u001b[39m\u001b[38;5;28;01mimport\u001b[39;00m defaultdict\n\u001b[0;32m      5\u001b[0m ds \u001b[38;5;241m=\u001b[39m defaultdict(\u001b[38;5;28mset\u001b[39m)\n",
      "\u001b[1;31mModuleNotFoundError\u001b[0m: No module named 'collection'"
     ]
    }
   ],
   "source": [
    "# Agrupación de combinaciones por suma\n",
    "\n",
    "from collection import defaultdict\n",
    "\n",
    "dS = defaultdict(set)"
   ]
  },
  {
   "cell_type": "code",
   "execution_count": 9,
   "id": "7e1c252f-6b23-4cb3-a408-a5b727db6a31",
   "metadata": {},
   "outputs": [
    {
     "ename": "AttributeError",
     "evalue": "'function' object has no attribute 'items'",
     "output_type": "error",
     "traceback": [
      "\u001b[1;31m---------------------------------------------------------------------------\u001b[0m",
      "\u001b[1;31mAttributeError\u001b[0m                            Traceback (most recent call last)",
      "Cell \u001b[1;32mIn[9], line 3\u001b[0m\n\u001b[0;32m      1\u001b[0m \u001b[38;5;66;03m# Vamos a recorrer sobre los elementos en S\u001b[39;00m\n\u001b[1;32m----> 3\u001b[0m \u001b[38;5;28;01mfor\u001b[39;00m i,j \u001b[38;5;129;01min\u001b[39;00m \u001b[43mS\u001b[49m\u001b[38;5;241;43m.\u001b[39;49m\u001b[43mitems\u001b[49m():\n\u001b[0;32m      4\u001b[0m     dS[j]\u001b[38;5;241m.\u001b[39madd(i)\n",
      "\u001b[1;31mAttributeError\u001b[0m: 'function' object has no attribute 'items'"
     ]
    }
   ],
   "source": [
    "# Vamos a recorrer sobre los elementos en S\n",
    "\n",
    "for i,j in S.items():\n",
    "    dS[j].add(i)"
   ]
  },
  {
   "cell_type": "code",
   "execution_count": 11,
   "id": "737456a8-4e62-4219-9273-b7a99cac49c7",
   "metadata": {},
   "outputs": [
    {
     "ename": "NameError",
     "evalue": "name 'dS' is not defined",
     "output_type": "error",
     "traceback": [
      "\u001b[1;31m---------------------------------------------------------------------------\u001b[0m",
      "\u001b[1;31mNameError\u001b[0m                                 Traceback (most recent call last)",
      "Cell \u001b[1;32mIn[11], line 1\u001b[0m\n\u001b[1;32m----> 1\u001b[0m \u001b[38;5;28mlist\u001b[39m (\u001b[43mdS\u001b[49m\u001b[38;5;241m.\u001b[39mitems())\n",
      "\u001b[1;31mNameError\u001b[0m: name 'dS' is not defined"
     ]
    }
   ],
   "source": [
    "list (dS.items())"
   ]
  },
  {
   "cell_type": "code",
   "execution_count": 12,
   "id": "be9b3b3f-40d2-491d-be44-3d6affdbf4a1",
   "metadata": {},
   "outputs": [
    {
     "ename": "NameError",
     "evalue": "name 'dS' is not defined",
     "output_type": "error",
     "traceback": [
      "\u001b[1;31m---------------------------------------------------------------------------\u001b[0m",
      "\u001b[1;31mNameError\u001b[0m                                 Traceback (most recent call last)",
      "Cell \u001b[1;32mIn[12], line 6\u001b[0m\n\u001b[0;32m      1\u001b[0m \u001b[38;5;66;03m# LeyS almacenar la probabilidad de cada posible suma,\u001b[39;00m\n\u001b[0;32m      2\u001b[0m \u001b[38;5;66;03m# usando la función P(A), es decir, \"la función de densidad\"\u001b[39;00m\n\u001b[0;32m      3\u001b[0m \n\u001b[0;32m      4\u001b[0m \u001b[38;5;66;03m# A es el conjunto de pares que producen la suma i\u001b[39;00m\n\u001b[1;32m----> 6\u001b[0m leyS \u001b[38;5;241m=\u001b[39m {i : P(A) \u001b[38;5;28;01mfor\u001b[39;00m i, A \u001b[38;5;129;01min\u001b[39;00m \u001b[43mdS\u001b[49m\u001b[38;5;241m.\u001b[39mitems()}\n\u001b[0;32m      8\u001b[0m leyS\n",
      "\u001b[1;31mNameError\u001b[0m: name 'dS' is not defined"
     ]
    }
   ],
   "source": [
    "# LeyS almacenar la probabilidad de cada posible suma,\n",
    "# usando la función P(A), es decir, \"la función de densidad\"\n",
    "\n",
    "# A es el conjunto de pares que producen la suma i\n",
    "\n",
    "leyS = {i : P(A) for i, A in dS.items()}\n",
    "\n",
    "leyS"
   ]
  },
  {
   "cell_type": "code",
   "execution_count": 14,
   "id": "1053daf3-9220-467b-aa41-1a1b7d570221",
   "metadata": {},
   "outputs": [],
   "source": [
    "# Importamos la libreria pandas\n",
    "\n",
    "import pandas as pd"
   ]
  },
  {
   "cell_type": "markdown",
   "id": "161227c6-6135-4905-ba0b-a236e564852e",
   "metadata": {},
   "source": [
    "Recordemos que una variable aleatoria real $X$, es una función\n",
    "\n",
    "$$X : \\Omega \\to \\mathbb{R}$$\n",
    "\n",
    "y sabemos que la función de densidad de la v.a. $X$, se define como sigue:\n",
    "\n",
    "$$ f_X(x) = \\begin{cases} \\mathbb{P}(X=x), \\quad \\text{si} x\\in R_{X} \\\\ 0, \\quad \\text{e.o.c}  \\end{cases}$$\n",
    "donde $R_X$ es el rango de la v.a. $X$."
   ]
  },
  {
   "cell_type": "markdown",
   "id": "0820b8e8-e984-4423-80cc-04a2c2228856",
   "metadata": {},
   "source": [
    "Para nuestro evento $S_n$, se tiene la siguiente variable aleatoria\n",
    "$$ S : \\Omega \\to \\{2,3,4,5,6,7,8,9,10,11,12\\} $$"
   ]
  },
  {
   "cell_type": "code",
   "execution_count": 16,
   "id": "55f7bcef-9090-4c27-8d2a-ea4808be5970",
   "metadata": {},
   "outputs": [
    {
     "ename": "NameError",
     "evalue": "name 'leyS' is not defined",
     "output_type": "error",
     "traceback": [
      "\u001b[1;31m---------------------------------------------------------------------------\u001b[0m",
      "\u001b[1;31mNameError\u001b[0m                                 Traceback (most recent call last)",
      "Cell \u001b[1;32mIn[16], line 3\u001b[0m\n\u001b[0;32m      1\u001b[0m \u001b[38;5;66;03m# Vamos a crear una serie\u001b[39;00m\n\u001b[1;32m----> 3\u001b[0m ley_S \u001b[38;5;241m=\u001b[39m pd\u001b[38;5;241m.\u001b[39mSeries(\u001b[43mleyS\u001b[49m)\n\u001b[0;32m      4\u001b[0m ley_S\u001b[38;5;241m.\u001b[39msort_index() \u001b[38;5;66;03m#Ordenar\u001b[39;00m\n",
      "\u001b[1;31mNameError\u001b[0m: name 'leyS' is not defined"
     ]
    }
   ],
   "source": [
    "# Vamos a crear una serie\n",
    "\n",
    "ley_S = pd.Series(leyS)\n",
    "ley_S.sort_index() #Ordenar"
   ]
  },
  {
   "cell_type": "code",
   "execution_count": 19,
   "id": "71e05520-8d6b-430a-b427-19b385e2d374",
   "metadata": {},
   "outputs": [],
   "source": [
    "import numpy as np #Para importar la libreria\n",
    "\n",
    "# LeyS(i) devuelve la probabilidad de obtener la suma i, si está en el rango de posibles sumas\n",
    "\n",
    "def leyS(i):\n",
    "    if i in range(2, 13):\n",
    "        x = ley_S[i]\n",
    "    else:\n",
    "        x = 0 # Si no está en el rango me devuelve cero\n",
    "    return x"
   ]
  },
  {
   "cell_type": "code",
   "execution_count": 27,
   "id": "f8d801c9-fdad-48b6-800f-7b01ad797430",
   "metadata": {},
   "outputs": [
    {
     "ename": "NameError",
     "evalue": "name 'ley_S' is not defined",
     "output_type": "error",
     "traceback": [
      "\u001b[1;31m---------------------------------------------------------------------------\u001b[0m",
      "\u001b[1;31mNameError\u001b[0m                                 Traceback (most recent call last)",
      "Cell \u001b[1;32mIn[27], line 8\u001b[0m\n\u001b[0;32m      5\u001b[0m rango_S \u001b[38;5;241m=\u001b[39m [k \u001b[38;5;28;01mfor\u001b[39;00m k \u001b[38;5;129;01min\u001b[39;00m \u001b[38;5;28mrange\u001b[39m(\u001b[38;5;241m2\u001b[39m, \u001b[38;5;241m13\u001b[39m)]\n\u001b[0;32m      7\u001b[0m \u001b[38;5;66;03m#Obtenemos la probabilidad de cada suma\u001b[39;00m\n\u001b[1;32m----> 8\u001b[0m p_k \u001b[38;5;241m=\u001b[39m [\u001b[38;5;28mfloat\u001b[39m(\u001b[43mleyS\u001b[49m\u001b[43m(\u001b[49m\u001b[43mk\u001b[49m\u001b[43m)\u001b[49m) \u001b[38;5;28;01mfor\u001b[39;00m k \u001b[38;5;129;01min\u001b[39;00m \u001b[38;5;28mrange\u001b[39m(\u001b[38;5;241m2\u001b[39m,\u001b[38;5;241m13\u001b[39m) ]\n",
      "Cell \u001b[1;32mIn[19], line 7\u001b[0m, in \u001b[0;36mleyS\u001b[1;34m(i)\u001b[0m\n\u001b[0;32m      5\u001b[0m \u001b[38;5;28;01mdef\u001b[39;00m\u001b[38;5;250m \u001b[39m\u001b[38;5;21mleyS\u001b[39m(i):\n\u001b[0;32m      6\u001b[0m     \u001b[38;5;28;01mif\u001b[39;00m i \u001b[38;5;129;01min\u001b[39;00m \u001b[38;5;28mrange\u001b[39m(\u001b[38;5;241m2\u001b[39m, \u001b[38;5;241m13\u001b[39m):\n\u001b[1;32m----> 7\u001b[0m         x \u001b[38;5;241m=\u001b[39m \u001b[43mley_S\u001b[49m[i]\n\u001b[0;32m      8\u001b[0m     \u001b[38;5;28;01melse\u001b[39;00m:\n\u001b[0;32m      9\u001b[0m         x \u001b[38;5;241m=\u001b[39m \u001b[38;5;241m0\u001b[39m \u001b[38;5;66;03m# Si no está en el rango me devuelve cero\u001b[39;00m\n",
      "\u001b[1;31mNameError\u001b[0m: name 'ley_S' is not defined"
     ]
    }
   ],
   "source": [
    "#Vamos a crear el rango de S\n",
    "\n",
    "#creo una lista con los posibles valores\n",
    "\n",
    "rango_S = [k for k in range(2, 13)]\n",
    "\n",
    "#Obtenemos la probabilidad de cada suma\n",
    "p_k = [float(leyS(k)) for k in rango_S]"
   ]
  },
  {
   "cell_type": "code",
   "execution_count": 31,
   "id": "eeed26ee-70a8-43e8-8c79-47bdf9c79c27",
   "metadata": {},
   "outputs": [
    {
     "ename": "NameError",
     "evalue": "name 'p_k' is not defined",
     "output_type": "error",
     "traceback": [
      "\u001b[1;31m---------------------------------------------------------------------------\u001b[0m",
      "\u001b[1;31mNameError\u001b[0m                                 Traceback (most recent call last)",
      "Cell \u001b[1;32mIn[31], line 7\u001b[0m\n\u001b[0;32m      1\u001b[0m \u001b[38;5;66;03m# Creamos un dataframe con:\u001b[39;00m\n\u001b[0;32m      2\u001b[0m \u001b[38;5;66;03m#   -los valores del rango_S\u001b[39;00m\n\u001b[0;32m      3\u001b[0m \u001b[38;5;66;03m#   -Las probabilidades p_k\u001b[39;00m\n\u001b[0;32m      4\u001b[0m \u001b[38;5;66;03m# indexamos una etiqueta S_2, ..., S_12\u001b[39;00m\n\u001b[0;32m      5\u001b[0m \n\u001b[0;32m      6\u001b[0m \u001b[38;5;66;03m# zip() -> toma dos listas y las combina en pares ordenados\u001b[39;00m\n\u001b[1;32m----> 7\u001b[0m ls \u001b[38;5;241m=\u001b[39m pd\u001b[38;5;241m.\u001b[39mDataFrame(\u001b[38;5;28mlist\u001b[39m(\u001b[38;5;28mzip\u001b[39m(rango_S, \u001b[43mp_k\u001b[49m)), index\u001b[38;5;241m=\u001b[39m[\u001b[38;5;124mf\u001b[39m\u001b[38;5;124m\"\u001b[39m\u001b[38;5;124mS_\u001b[39m\u001b[38;5;132;01m{\u001b[39;00mi\u001b[38;5;132;01m}\u001b[39;00m\u001b[38;5;124m\"\u001b[39m \u001b[38;5;28;01mfor\u001b[39;00m i \u001b[38;5;129;01min\u001b[39;00m \u001b[38;5;28mrange\u001b[39m(\u001b[38;5;241m2\u001b[39m,\u001b[38;5;241m13\u001b[39m)], columns\u001b[38;5;241m=\u001b[39m[\u001b[38;5;124m'\u001b[39m\u001b[38;5;124mrango\u001b[39m\u001b[38;5;124m'\u001b[39m, \u001b[38;5;124m'\u001b[39m\u001b[38;5;124mdensidad\u001b[39m\u001b[38;5;124m'\u001b[39m])\n\u001b[0;32m      9\u001b[0m ls\n\u001b[0;32m     10\u001b[0m \u001b[38;5;66;03m#\u001b[39;00m\n",
      "\u001b[1;31mNameError\u001b[0m: name 'p_k' is not defined"
     ]
    }
   ],
   "source": [
    "# Creamos un dataframe con:\n",
    "#   -los valores del rango_S\n",
    "#   -Las probabilidades p_k\n",
    "# indexamos una etiqueta S_2, ..., S_12\n",
    "\n",
    "# zip() -> toma dos listas y las combina en pares ordenados\n",
    "ls = pd.DataFrame(list(zip(rango_S, p_k)), index=[f\"S_{i}\" for i in range(2,13)], columns=['rango', 'densidad'])\n",
    "\n",
    "ls\n",
    "#"
   ]
  },
  {
   "cell_type": "code",
   "execution_count": null,
   "id": "9b393d05-77d0-41e4-8344-bfe413b22b5a",
   "metadata": {},
   "outputs": [],
   "source": [
    "ls.plot.bar()"
   ]
  }
 ],
 "metadata": {
  "kernelspec": {
   "display_name": "Python 3 (ipykernel)",
   "language": "python",
   "name": "python3"
  },
  "language_info": {
   "codemirror_mode": {
    "name": "ipython",
    "version": 3
   },
   "file_extension": ".py",
   "mimetype": "text/x-python",
   "name": "python",
   "nbconvert_exporter": "python",
   "pygments_lexer": "ipython3",
   "version": "3.12.3"
  }
 },
 "nbformat": 4,
 "nbformat_minor": 5
}
