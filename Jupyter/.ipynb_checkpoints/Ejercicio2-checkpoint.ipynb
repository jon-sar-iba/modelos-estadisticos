{
 "cells": [
  {
   "cell_type": "markdown",
   "id": "b265f1b9-9aee-4a52-b5aa-d880065779bd",
   "metadata": {},
   "source": [
    "# Calcula la Ley del experimento aleatorio\n",
    "\n",
    "Al inicio debe estar el nombre del equipo y el nombre de sus integrantes\n",
    "1.   Documenta tu Colab/Notebook\n",
    "2.   Calcular la ley siguiendo un procedimiento similar al de clase\n",
    "3. Verifica en cada caso, que\n",
    "   $$\\sum_{k\\in R_{X}}\\mathbb{P}(X=k) = 1$$\n",
    "4. Gráfica la función de densidad  \n",
    "     Aquí pueden utilizar Python (para los que ya tengan conocimiento previo de matplotlib) o como lo hicimos en clase\n",
    "5. Sube tu notebook a GitHub\n",
    "\n",
    "## Solución"
   ]
  },
  {
   "cell_type": "code",
   "execution_count": 41,
   "id": "11776a03-a9f4-444d-aeb3-f450ae2cb73a",
   "metadata": {},
   "outputs": [
    {
     "data": {
      "text/plain": [
       "{0: 0.1,\n",
       " 1: 0.18,\n",
       " 2: 0.16,\n",
       " 3: 0.14,\n",
       " 4: 0.12,\n",
       " 5: 0.1,\n",
       " 6: 0.08,\n",
       " 7: 0.06,\n",
       " 8: 0.04,\n",
       " 9: 0.02}"
      ]
     },
     "execution_count": 41,
     "metadata": {},
     "output_type": "execute_result"
    }
   ],
   "source": [
    "import numpy as np  # Librería NumPy para operaciones numéricas y manejo de arrays\n",
    "import matplotlib.pyplot as plt  # Librería Matplotlib para visualización de gráficos\n",
    "import pandas as pd  # Librería Pandas para manejo de datos y análisis\n",
    "from collections import Counter  # De la librería collections se importa la clase Counter para contar elementos en colecciones\n",
    "\n",
    "# Se define el espacio muestral\n",
    "Omega = [(i, j) for i in range(1, 11) for j in range(1, 11)]  # Crea una lista de tuplas que representan todos los posibles resultados al lanzar dos dados de 10 caras\n",
    "dimOmega = len(Omega)  # Calcula el número total de casos posibles en el espacio muestral (100)\n",
    "\n",
    "# Definir la variable aleatoria X = |i - j|\n",
    "def X(omega):\n",
    "    return abs(omega[0] - omega[1])  # Calcula el valor absoluto de la diferencia entre los dos elementos de la tupla omega\n",
    "\n",
    "# Calcular la distribución de probabilidad\n",
    "valores_X = [X(omega) for omega in Omega]  # Aplica la función X a cada elemento del espacio muestral Omega para obtener los valores de la variable aleatoria\n",
    "conteo = Counter(valores_X)  # Cuenta la frecuencia de cada valor único en la lista valores_X\n",
    "n = len(Omega)  # Obtiene el número total de elementos en el espacio muestral (100)\n",
    "densidad = {k: v/n for k, v in conteo.items()}  # Calcula la probabilidad de cada valor de X dividiendo su frecuencia por el total de casos posibles\n",
    "densidad  # Muestra el diccionario de densidades (probabilidades) asociadas a cada valor de X"
   ]
  },
  {
   "cell_type": "code",
   "execution_count": 42,
   "id": "668c233a-0256-4b9d-997d-ea5ce7fd2d2d",
   "metadata": {},
   "outputs": [
    {
     "name": "stdout",
     "output_type": "stream",
     "text": [
      "Probabilidades asociadas:\n",
      "   Diferencia  Probabilidad\n",
      "0           0          0.10\n",
      "1           1          0.18\n",
      "2           2          0.16\n",
      "3           3          0.14\n",
      "4           4          0.12\n",
      "5           5          0.10\n",
      "6           6          0.08\n",
      "7           7          0.06\n",
      "8           8          0.04\n",
      "9           9          0.02\n"
     ]
    }
   ],
   "source": [
    "# Mostrar las probabilidades asociadas\n",
    "df_probabilidades = pd.DataFrame(list(densidad.items()), columns=[\"Diferencia\", \"Probabilidad\"])  # Crea un DataFrame a partir de un diccionario de densidades, con columnas \"Diferencia\" y \"Probabilidad\"\n",
    "df_probabilidades = df_probabilidades.sort_values(\"Diferencia\")  # Ordena el DataFrame por la columna \"Diferencia\" en orden ascendente\n",
    "\n",
    "print(\"Probabilidades asociadas:\")  # Imprime un mensaje indicando que se mostrarán las probabilidades\n",
    "print(df_probabilidades)  # Muestra el DataFrame con las probabilidades asociadas a cada diferencia"
   ]
  },
  {
   "cell_type": "code",
   "execution_count": 44,
   "id": "89d02583-87cf-4f81-a0d4-1576071f32e2",
   "metadata": {},
   "outputs": [
    {
     "data": {
      "image/png": "[encoded data removed]",
      "text/plain": [
       "<Figure size 800x500 with 1 Axes>"
      ]
     },
     "metadata": {},
     "output_type": "display_data"
    }
   ],
   "source": [
    "# Verificar que la suma de probabilidades sea 1\n",
    "assert np.isclose(sum(densidad.values()), 1), \"Suma de la probabilidad != 1\"  # Verifica que la suma de todas las probabilidades en el diccionario `densidad` sea aproximadamente 1 (usando `np.isclose` para manejar errores de precisión numérica)\n",
    "\n",
    "# Convertir en DataFrame para visualización\n",
    "df = pd.DataFrame(list(densidad.items()), columns=[\"Diferencia\", \"Probabilidad\"])  # Crea un DataFrame a partir del diccionario `densidad`\n",
    "df = df.sort_values(\"Diferencia\")  # Ordena el DataFrame por la columna \"Diferencia\"\n",
    "\n",
    "# Definir la fuente personalizada\n",
    "font_title = {\n",
    "    'family': 'sans-serif',  # Familia de la fuente (puede ser 'serif', 'sans-serif', 'monospace', etc.)\n",
    "    'color':  'black',  # Color del texto\n",
    "    'weight': 'bold',  # Grosor de la fuente ('normal', 'bold', etc.)\n",
    "    'size': 16,  # Tamaño de la fuente\n",
    "}\n",
    "font_labels = {\n",
    "    'family': 'sans-serif',  # Familia de la fuente\n",
    "    'color':  'black',  # Color del texto\n",
    "    'weight': 'bold',  # Grosor de la fuente\n",
    "    'size': 12,  # Tamaño de la fuente\n",
    "}\n",
    "\n",
    "# Graficar la función de densidad\n",
    "plt.figure(figsize=(8, 5))  # Tamaño de la figura\n",
    "bars = plt.bar(\n",
    "    df[\"Diferencia\"], \n",
    "    df[\"Probabilidad\"], \n",
    "    color='gray'\n",
    ")  # Gráfico de barras: diferencias vs probabilidades\n",
    "\n",
    "# Agregar porcentajes sobre cada barra\n",
    "for bar in bars:\n",
    "    height = bar.get_height()\n",
    "    plt.text(\n",
    "        bar.get_x() + bar.get_width() / 2,  # Posición X del texto (centro de la barra)\n",
    "        height + 0.001,  # Posición Y del texto (ligeramente arriba de la barra)\n",
    "        f\"{height * 100:.1f}%\",  # Texto: porcentaje con 1 decimal\n",
    "        ha='center',  # Alineación horizontal centrada\n",
    "        va='bottom',  # Alineación vertical en la parte inferior\n",
    "        fontsize=8,\n",
    "        fontfamily='sans-serif'  # Fuente para los porcentajes\n",
    "    )\n",
    "\n",
    "plt.xlabel(\"Diferencia\", fontdict=font_labels)  # Etiqueta del eje X\n",
    "plt.ylabel(\"Probabilidad\", fontdict=font_labels)  # Etiqueta del eje Y\n",
    "plt.title(\"Función de densidad\", fontdict=font_title)  # Título de la gráfica\n",
    "plt.yticks([])  # Eliminar valores del eje Y\n",
    "plt.xticks(range(10))  # Marcas del eje X de 0 a 9\n",
    "plt.grid(axis='y', linestyle='--', alpha=0.7)  # Cuadrícula en el eje Y\n",
    "plt.gca().spines[['top', 'right', 'left']].set_visible(False)  # Eliminar bordes y líneas de fondo\n",
    "plt.show()  # Mostrar gráfica"
   ]
  },
  {
   "cell_type": "code",
   "execution_count": 45,
   "id": "48c7a0b1-4ace-4da1-bfae-07edc2c54275",
   "metadata": {},
   "outputs": [
    {
     "name": "stdout",
     "output_type": "stream",
     "text": [
      "[(1, 3), (1, 4), (1, 5), (1, 6), (1, 7), (1, 8), (1, 9), (1, 10), (2, 4), (2, 5), (2, 6), (2, 7), (2, 8), (2, 9), (2, 10), (3, 1), (3, 5), (3, 6), (3, 7), (3, 8), (3, 9), (3, 10), (4, 1), (4, 2), (4, 6), (4, 7), (4, 8), (4, 9), (4, 10), (5, 1), (5, 2), (5, 3), (5, 7), (5, 8), (5, 9), (5, 10), (6, 1), (6, 2), (6, 3), (6, 4), (6, 8), (6, 9), (6, 10), (7, 1), (7, 2), (7, 3), (7, 4), (7, 5), (7, 9), (7, 10), (8, 1), (8, 2), (8, 3), (8, 4), (8, 5), (8, 6), (8, 10), (9, 1), (9, 2), (9, 3), (9, 4), (9, 5), (9, 6), (9, 7), (10, 1), (10, 2), (10, 3), (10, 4), (10, 5), (10, 6), (10, 7), (10, 8)]\n"
     ]
    }
   ],
   "source": [
    "# Definir el evento Sn (la diferencia sea 2 o más)\n",
    "Sn = [omega for omega in Omega if X(omega) >= 2]  # Filtra el espacio muestral Omega para incluir solo las tuplas donde la diferencia entre i y j es 2 o más\n",
    "\n",
    "print(Sn)  # Muestra las tuplas que cumplen con la condición del evento Sn\n",
    "\n",
    "# Paso 3: Definir la función de probabilidad P(A)\n",
    "def P(A):\n",
    "    return len(A) / dimOmega  # Calcula la probabilidad de un evento A dividiendo el número de casos favorables (len(A)) entre el número total de casos posibles (num_omega)"
   ]
  },
  {
   "cell_type": "code",
   "execution_count": 46,
   "id": "c29badd2-0ba4-411a-afbe-dabb931afe21",
   "metadata": {},
   "outputs": [
    {
     "name": "stdout",
     "output_type": "stream",
     "text": [
      "P(X ≥ 2) = 0.7200\n"
     ]
    }
   ],
   "source": [
    "# Calcular la probabilidad de que la diferencia sea 2 o más\n",
    "Pro_dif_mayor_o_igual_a_2 = sum([densidad[k] for k in densidad if k >= 2])  # Suma las probabilidades de los valores de X que son 2 o más\n",
    "\n",
    "print(f\"P(X ≥ 2) = {Pro_dif_mayor_o_igual_a_2:.4f}\")  # Muestra la probabilidad con 4 decimales de precisión"
   ]
  },
  {
   "cell_type": "code",
   "execution_count": null,
   "id": "baa5aaf1-99d1-4749-a2e2-00482b61d6cb",
   "metadata": {},
   "outputs": [],
   "source": []
  }
 ],
 "metadata": {
  "kernelspec": {
   "display_name": "Python 3 (ipykernel)",
   "language": "python",
   "name": "python3"
  },
  "language_info": {
   "codemirror_mode": {
    "name": "ipython",
    "version": 3
   },
   "file_extension": ".py",
   "mimetype": "text/x-python",
   "name": "python",
   "nbconvert_exporter": "python",
   "pygments_lexer": "ipython3",
   "version": "3.12.3"
  }
 },
 "nbformat": 4,
 "nbformat_minor": 5
}
