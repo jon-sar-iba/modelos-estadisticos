{
 "cells": [
  {
   "cell_type": "markdown",
   "id": "1e63b98b-a663-45c6-91d7-67931d087452",
   "metadata": {},
   "source": [
    "# Módulo 2"
   ]
  },
  {
   "cell_type": "markdown",
   "id": "8cc39e7c-556e-46c8-b6f1-25b8e658ef8a",
   "metadata": {},
   "source": [
    "Sea $x \\in \\mathbb{R}, la función piso, se defie como:\n",
    "$$ \\lfloor x \\rfloor = \\max \\{ \\min m\\in\\mathbb{z} \\mid | m \\leq x \\} $$"
   ]
  },
  {
   "cell_type": "markdown",
   "id": "d905bb5c-0fb7-4b3b-bab6-433bfea6b2ea",
   "metadata": {},
   "source": [
    "# operación modular\n",
    "$a,b\\in \\mathbb{R} $\n",
    "El residuo de dividir $a$ entre $b$ se llama operación modular y en python se escribe como:\n",
    "`a%b`"
   ]
  },
  {
   "cell_type": "code",
   "execution_count": 3,
   "id": "7495b535-20e6-4638-a4b9-463457c1a636",
   "metadata": {},
   "outputs": [
    {
     "data": {
      "text/plain": [
       "1"
      ]
     },
     "execution_count": 3,
     "metadata": {},
     "output_type": "execute_result"
    }
   ],
   "source": [
    "5%2"
   ]
  },
  {
   "cell_type": "code",
   "execution_count": 6,
   "id": "b53b887f-6ce3-47d2-915c-576baf5827b5",
   "metadata": {},
   "outputs": [
    {
     "name": "stdout",
     "output_type": "stream",
     "text": [
      "3.0 1.0\n"
     ]
    }
   ],
   "source": [
    "a = 1 + 3j #j denota a la parte imaginaria del complejo\n",
    "im = a.imag\n",
    "re = a.real\n",
    "print(im, re)"
   ]
  },
  {
   "cell_type": "code",
   "execution_count": null,
   "id": "0e2b41c7-b18b-452b-9083-2710b1df14d3",
   "metadata": {},
   "outputs": [],
   "source": []
  }
 ],
 "metadata": {
  "kernelspec": {
   "display_name": "Python 3 (ipykernel)",
   "language": "python",
   "name": "python3"
  },
  "language_info": {
   "codemirror_mode": {
    "name": "ipython",
    "version": 3
   },
   "file_extension": ".py",
   "mimetype": "text/x-python",
   "name": "python",
   "nbconvert_exporter": "python",
   "pygments_lexer": "ipython3",
   "version": "3.12.3"
  }
 },
 "nbformat": 4,
 "nbformat_minor": 5
}
