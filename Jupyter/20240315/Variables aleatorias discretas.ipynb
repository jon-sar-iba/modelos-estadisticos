{
 "cells": [
  {
   "cell_type": "markdown",
   "id": "8d5a083a-ca70-4135-91be-f0a6288a52b5",
   "metadata": {},
   "source": [
    "# Variables aleatorias discretas"
   ]
  },
  {
   "cell_type": "markdown",
   "id": "65355bf5-c133-4d8b-82a7-18996b72c2bd",
   "metadata": {
    "jp-MarkdownHeadingCollapsed": true
   },
   "source": [
    "## Variable aleatoria uniforme discreta"
   ]
  },
  {
   "cell_type": "markdown",
   "id": "b7969eed-408e-424a-b734-5db0203eb4fe",
   "metadata": {},
   "source": [
    "Una variable aleatoria $X$ tiene distribución uniforme discreta en el conjunto $\\{x_1,...,x_n\\}$ si su función de densidad está dada por\n",
    "$$ f_X(x) = \\mathbb{P}(X=x) = \\begin{cases} \\frac{1}{n}, \\quad \\text{si } x\\in \\{x_1,...,x_n\\} \\\\\n",
    "0, \\quad \\text{e.o.c} \\end{cases}$$\n",
    "\n",
    "Se llama uniforme porque cada uno de sus posibles resultados de $X$ tienene la misma probabilidad.\n",
    "\n",
    "**Notación:** $X\\sim Unif(x_1,...,x_n)$\n",
    "\n",
    "La esperanza y varianza de $X$, están dadas por:\n",
    "\n",
    "$$ \\mathbb{E}[X] = \\sum_{x} xf_X(x) = \\frac{x_n + x_1}{2} $$\n",
    "y \n",
    "$$ \\text{Var}(X) = \\mathbb{E}\\left[ (X-\\mathbb{E}[X])^2\\right] = \\frac{(x_n - x_1 + 1)^2 -1}{12}$$\n",
    "\n",
    "$\\color{red}{\\text{Ejercicio 1.}}$ Verifica que, en efecto, la esperanza y varianza de una variable aleatoria uniforme."
   ]
  },
  {
   "cell_type": "markdown",
   "id": "c6219c03-0ede-4c2e-8715-85dfccc22726",
   "metadata": {},
   "source": [
    "**Ejemplo** Se lleva a cabo una rifa donde los boletos están enumerados del $00$ al $99$. Si $Y$ es la variable aleatoria definida como el número del boleto ganador, entonces:  \n",
    "$$\\mathbb{P}(Y=k)=\\begin{cases}\n",
    "\t\\frac{1}{100} &\\quad \\text{si } k=00,01,\\dots,99 \\\\\n",
    "\t0 &\\quad \\text{en otro caso}\n",
    "\\end{cases}$$\n",
    "Consideremos que el premio de la rifa se determina a partir del número premiado de la siguiente forma: $X=Y+1$, donde $X$ es el monto del premio en pesos y $Y$ es el número premiado, entonces $X$ es una variable aleatoria, pues es una función de $Y$, y además se tiene\n",
    "\t$$f_{X}(k)=\\begin{cases}\n",
    "\t\t\\frac{1}{100} &\\quad \\text{si } x=1,2,\\dots,100 \\\\\n",
    "\t\t0 &\\quad \\text{en otro caso}\n",
    "\t\\end{cases}$$\n",
    "\n",
    "$\\color{red}{\\text{Ejercicio 2.}}$ Calcular la esperanza y varianza.    \n",
    "\n",
    "Supongamos que nos interesa calcular la probabilidad de que el premio sea mayor a $\\$80$, entonces\n",
    "$$ \\mathbb{P}(X>80) = \\sum_{k=81}^{100} \\frac{1}{100} = \\frac{20}{100} = 0.2 $$\n",
    "\n",
    "La función de distribución de una v.a. uniforme es:\n",
    "$$ F_X(x) = \\mathbb{P}(X\\le x) = \\begin{cases} 0, \\quad \\text{si } x < x_1 \\\\ \\frac{x}{n}, \\quad \\text{si } x\\in \\{x_1,...,x_n\\} \\\\\n",
    "1, \\quad \\text{si } x > x_n \\end{cases}$$\n"
   ]
  },
  {
   "cell_type": "markdown",
   "id": "87d58180-99cb-40b2-9f50-55cb8c3bed72",
   "metadata": {},
   "source": [
    "## Variable aleatoria Bernoulli con parámetro $p\\in (0,1)$"
   ]
  },
  {
   "cell_type": "markdown",
   "id": "0f4dc41f-51e7-4401-a0dd-688e92afbc22",
   "metadata": {},
   "source": [
    "Este modelo se aplica a un experiemento cuyo espacio muestral tiene dos resultados\n",
    "$$ \\Omega = \\{\\text{éxito} , \\text{fracaso}\\}$$\n",
    "y definimos \n",
    "- $X(\\{\\text{éxito}\\}) =1$\n",
    "- $X(\\{\\text{fracaso}\\}) =0$\n",
    "\n",
    "Las probabilidades asociadas a este modelo son\n",
    "- $\\mathbb{P}(\\{\\text{éxito}\\}) = p$\n",
    "- $\\mathbb{P}(\\{\\text{fracaso}\\}) = 1-p$\n",
    "donde $0<p<1$.\n",
    "\n",
    "La función de densidad, está definida de la siguiente manera\n",
    "$$ f_X(x) = \\mathbb{P}(X=x) = \\begin{cases} p^x(1-p)^{1-x}, \\quad \\text{si } x\\in \\{0,1\\} \\\\\n",
    "0, \\quad \\text{e.o.c} \\end{cases}$$\n",
    "\n",
    "**Notación:** $X\\sim Ber(p)$\n",
    "\n",
    "Mediante la combinación de v.a. Bernoulli es posible construir otras v.a.\n",
    "\n",
    "La esperanza y varianza de $X\\sim Ber(p)$, esá dada por:\n",
    "\n",
    "$$ \\mathbb{E}[X] =\\sum_{x=0}^{1} x f_{X}(x) = 0\\cdot (1-p) + 1 \\cdot p = p $$\n",
    "y\n",
    "$$ \\mathbb{E}[X^2] =\\sum_{x=0}^{1} x^2 f_{X}(x) = 0^2 \\cdot (1-p) + 1^2 \\cdot p = p $$\n",
    "entonces\n",
    "$$ \\text{Var}(X) = \\mathbb{E}[X^2] - (\\mathbb{E}[X])^2  = p - p^2 = p(1-p)$$"
   ]
  },
  {
   "cell_type": "markdown",
   "id": "4ddf7170-0801-470a-87e6-24d032c7eff4",
   "metadata": {},
   "source": [
    "## Variable aleatoria Binomial con parámetros $n$ y $p\\in(0,1)$"
   ]
  },
  {
   "cell_type": "markdown",
   "id": "5ca6e237-ca40-48fa-8144-ee5d986ee39a",
   "metadata": {},
   "source": [
    "Decimos que una v.a. $X$ tiene distribución binomial con parámetros $n$ y $p$, si su función de densidad está dada por\n",
    "$$ f_X(x) = \\mathbb{P}(X=x) = \\begin{cases} \\binom{n}{x}p^x (1-p)^{n-x}, \\quad \\text{si } x\\in \\{0,1,...,n\\} \\\\\n",
    "0, \\quad \\text{e.o.c} \\end{cases}$$\n",
    "donde $n\\in\\mathbb{Z}_{+}$ y $0<p<1$.\n",
    "\n",
    "**Obs:** Los ensayos deben ser independientes. \n",
    "\n",
    "La esperanza de $X$ es\n",
    "$$\\mathbb{E}[X] = np $$\n",
    "y $$\\text{Var}(X) = np(1-p) $$\n",
    "\n",
    "**Ejemplo** Una moneda justa se tira seis veces, donde la probabilidad de obtener sol es de $0.3$. Sea $X$ el número de veces que cae sol, entonces dabemos que $X$ tiene una distribución binomial con parámetros $n=6$ y $p=0.3$. Calcular:\n",
    "\n",
    "- $\\mathbb{P}(X=2) = \\binom{6}{2}(0.3)^2 (1-p)^{6-2} = 0.3241$\n",
    "- $\\mathbb{P}(X=3) = \\binom{6}{3}(0.3)^3 (1-p)^{6-3} = 0.1852$\n",
    "- $$ \\begin{align*} \\mathbb{P}(1<X \\le 5) &= \\mathbb{P}(X=2) + \\mathbb{P}(X=3) \\mathbb{P}(X=4) + \\mathbb{P}(X=5) \\\\\n",
    "    &= 0.3241 + 0.1852 + \\binom{6}{4}(0.3)^4 (1-p)^{6-4} + \\binom{6}{5}(0.3)^5 (1-p)^{6-5}  \\\\\n",
    "    &= \\end{align*} $$"
   ]
  },
  {
   "cell_type": "markdown",
   "id": "9256aaad-4607-4705-bf2d-19c8a6f83776",
   "metadata": {},
   "source": [
    "## Variable aleatoria Poisson\n",
    "\n",
    "Es una distribución de probabilidad discreta que sirve para calcular la probabilidad de que ocurra un determinado número de eventos raros durante un intervalo dado (puede ser tiempo, lingitud, área, etc).\n",
    "\n",
    "Esta v.a. tomavalores sobre el conjunto $\\{0,1,2,...\\}$ y tiene un parámetro $\\lambda>0$, el cual representa el número de veces que se **espera** que ocurra un evento durante un intervalo dado.\n",
    "\n",
    "Su función de densidad, está dado como sigue:\n",
    "$$ f_X(x) = \\mathbb{P}(X=x) = \\begin{cases} e^{-\\lambda}\\frac{\\lambda^x}{x!}, \\quad \\text{si } x\\in \\{0,1,...\\} \\\\\n",
    "0, \\quad \\text{e.o.c} \\end{cases}$$\n",
    "\n",
    "Notemos que $\\mathbb{E}[X]=\\lambda$ y que $\\text{Var}(X)=\\lambda$. \n",
    "\n",
    "**Ejemplo** Supongamos que el número de accidentes que ocurre en un punto en un día tiene distribución Poisson con parámetro $\\lambda=2$, \n",
    "\n",
    "- ¿cuál es la probabilidad de que en un día ocurran más de dos accidentes?\n",
    "  $$ \\begin{align*} \\mathbb{P}(X>2) &= 1- \\mathbb{P}(X\\le 2) \\\\\n",
    "    &= 1- [\\mathbb{P}(X=0) + \\mathbb{P}(X=1) + \\mathbb{P}(X=2)] \\\\\n",
    "    &= 1- \\left[ e^{-2}\\frac{2^0}{0!} + e^{-2}\\frac{2^1}{1!} + e^{-2}\\frac{2^2}{2!} \\right] \\\\\n",
    "    &= 1 - e^{-2}[1+2+2] = 1-5e^{-2} = 0.3233\n",
    "    \\end{align*} $$\n",
    "- ¿cuál es la probabilidad de que ocurran más de dos accidentes sabiendo que por lo menos ocurre uno?\n",
    "  $$ \\begin{align*} \\mathbb{P}(X>2 \\mid X \\ge 1) &= \\frac{\\mathbb{P}(\\{X>2\\} \\cap \\{X \\ge 1\\} )}{\\mathbb{P}\\{X \\ge 1)\\}} \\\\\n",
    "       &= \\frac{\\mathbb{P}(\\{X>2\\})}{\\mathbb{P}\\{X \\ge 1)\\}} \\\\\n",
    "       & = \\frac{.3233}{1-\\mathbb{P}(X<1)} = \\frac{0.3233}{1-e^{-2}} \\frac{0.3233}{.8646} = 0.3739\n",
    "       \\end{align*} $$\n",
    "\n",
    "  **Ejercio (Python)**\n",
    "  \n",
    " \n"
   ]
  }
 ],
 "metadata": {
  "kernelspec": {
   "display_name": "Python [conda env:base] *",
   "language": "python",
   "name": "conda-base-py"
  },
  "language_info": {
   "codemirror_mode": {
    "name": "ipython",
    "version": 3
   },
   "file_extension": ".py",
   "mimetype": "text/x-python",
   "name": "python",
   "nbconvert_exporter": "python",
   "pygments_lexer": "ipython3",
   "version": "3.12.7"
  }
 },
 "nbformat": 4,
 "nbformat_minor": 5
}
