{
 "cells": [
  {
   "cell_type": "markdown",
   "id": "8ed6d147-4895-4a8c-95ff-c31d76f529f2",
   "metadata": {},
   "source": [
    "# Variable aleatoria Bernoulli con parámetro $p\\in (0,1)$\n",
    "Este modelo se aplica a un experiemento cuyo espacio muestral tiene dos resultados\n",
    "$$ \\Omega = \\{\\text{éxito} , \\text{fracaso}\\}$$\n",
    "y definimos \n",
    "- $X(\\{\\text{éxito}\\}) =1$\n",
    "- $X(\\{\\text{fracaso}\\}) =0$\n",
    "\n",
    "Las probabilidades asociadas a este modelo son\n",
    "- $\\mathbb{P}(\\{\\text{éxito}\\}) = p$\n",
    "- $\\mathbb{P}(\\{\\text{fracaso}\\}) = 1-p$\n",
    "donde $0<p<1$.\n",
    "\n",
    "La función de densidad, está definida de la siguiente manera\n",
    "$$ f_X(x) = \\mathbb{P}(X=x) = \\begin{cases} p^x(1-p)^{1-x}, \\quad \\text{si } x\\in \\{0,1\\} \\\\\n",
    "0, \\quad \\text{e.o.c} \\end{cases}$$\n",
    "\n",
    "**Notación:** $X\\sim Ber(p)$\n",
    "\n",
    "Mediante la combinación de v.a. Bernoulli es posible construir otras v.a.\n",
    "\n",
    "La esperanza y varianza de $X\\sim Ber(p)$, esá dada por:\n",
    "\n",
    "$$ \\mathbb{E}[X] =\\sum_{x=0}^{1} x f_{X}(x) = 0\\cdot (1-p) + 1 \\cdot p = p $$\n",
    "y\n",
    "$$ \\mathbb{E}[X^2] =\\sum_{x=0}^{1} x^2 f_{X}(x) = 0^2 \\cdot (1-p) + 1^2 \\cdot p = p $$\n",
    "entonces\n",
    "$$ \\text{Var}(X) = \\mathbb{E}[X^2] - (\\mathbb{E}[X])^2  = p - p^2 = p(1-p)$$"
   ]
  },
  {
   "cell_type": "code",
   "execution_count": 2,
   "id": "7f9a6aa0-ed48-477d-b80b-eedcf31af784",
   "metadata": {},
   "outputs": [
    {
     "name": "stdout",
     "output_type": "stream",
     "text": [
      "La función de densidad =  [0.7 0.3]\n"
     ]
    },
    {
     "data": {
      "image/png": "[encoded data removed]",
      "text/plain": [
       "<Figure size 640x480 with 1 Axes>"
      ]
     },
     "metadata": {},
     "output_type": "display_data"
    },
    {
     "name": "stdout",
     "output_type": "stream",
     "text": [
      "La esperanza es =  0.3\n",
      "La varianza es =  0.21\n"
     ]
    }
   ],
   "source": [
    "import numpy as np\n",
    "import numpy.random as npr\n",
    "import scipy.stats as sps\n",
    "from scipy.stats import randint\n",
    "import matplotlib.pyplot as plt #Librería para la visualización de datos\n",
    "import random\n",
    "from scipy.stats import bernoulli\n",
    "\n",
    "#Definimos nuestra probabilidad de éxito\n",
    "p=0.3\n",
    "\n",
    "#Defino los posibles valores \n",
    "x=[0,1]\n",
    "\n",
    "#Calculamos la función de densidad\n",
    "pmf = bernoulli.pmf(x, p)\n",
    "\n",
    "print(\"La función de densidad = \", pmf)\n",
    "\n",
    "#Graficamos la función de densidad\n",
    "plt.bar(x,pmf,width=0.2)\n",
    "plt.xlabel('Valores')\n",
    "plt.ylabel('Probabilidad')\n",
    "plt.title('Función de densidad de una bernoulli con p=0.3')\n",
    "#plt.grid(True)\n",
    "plt.show() #mostrar el gráfica\n",
    "\n",
    "#Calculo de la esperanza \n",
    "print(\"La esperanza es = \", bernoulli.mean(p))\n",
    "\n",
    "#Calculo de la varianza \n",
    "print(\"La varianza es = \", bernoulli.var(p))"
   ]
  },
  {
   "cell_type": "code",
   "execution_count": null,
   "id": "c0d66c14-aca3-468b-bbbf-8adc59bac3ea",
   "metadata": {},
   "outputs": [],
   "source": []
  }
 ],
 "metadata": {
  "kernelspec": {
   "display_name": "Python 3 (ipykernel)",
   "language": "python",
   "name": "python3"
  },
  "language_info": {
   "codemirror_mode": {
    "name": "ipython",
    "version": 3
   },
   "file_extension": ".py",
   "mimetype": "text/x-python",
   "name": "python",
   "nbconvert_exporter": "python",
   "pygments_lexer": "ipython3",
   "version": "3.12.3"
  }
 },
 "nbformat": 4,
 "nbformat_minor": 5
}
