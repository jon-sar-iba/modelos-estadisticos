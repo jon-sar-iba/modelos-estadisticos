{
 "cells": [
  {
   "cell_type": "markdown",
   "id": "3b8ebf6f-4988-40f5-bdfe-841cb72064a2",
   "metadata": {},
   "source": [
    "## Variable aleatoria Poisson"
   ]
  },
  {
   "cell_type": "markdown",
   "id": "718b806d-db6b-4e91-b041-e64dd20c7ba6",
   "metadata": {},
   "source": [
    "Es una distribución de probabilidad discreta que sirve para calcular la probabilidad de que ocurra un determinado número de eventos raros durante un intervalo dado (puede ser tiempo, lingitud, área, etc).\n",
    "\n",
    "Esta v.a. tomavalores sobre el conjunto $\\{0,1,2,...\\}$ y tiene un parámetro $\\lambda>0$, el cual representa el número de veces que se **espera** que ocurra un evento durante un intervalo dado.\n",
    "\n",
    "Su función de densidad, está dado como sigue:\n",
    "$$ f_X(x) = \\mathbb{P}(X=x) = \\begin{cases} e^{-\\lambda}\\frac{\\lambda^x}{x!}, \\quad \\text{si } x\\in \\{0,1,...\\} \\\\\n",
    "0, \\quad \\text{e.o.c} \\end{cases}$$\n",
    "\n",
    "Notemos que $\\mathbb{E}[X]=\\lambda$ y que $\\text{Var}(X)=\\lambda$. \n",
    "\n",
    "**Ejemplo** Supongamos que el número de accidentes que ocurre en un punto en un día tiene distribución Poisson con parámetro $\\lambda=2$, \n",
    "\n",
    "- ¿cuál es la probabilidad de que en un día ocurran más de dos accidentes?\n",
    "  $$ \\begin{align*} \\mathbb{P}(X>2) &= 1- \\mathbb{P}(X\\le 2) \\\\\n",
    "    &= 1- [\\mathbb{P}(X=0) + \\mathbb{P}(X=1) + \\mathbb{P}(X=2)] \\\\\n",
    "    &= 1- \\left[ e^{-2}\\frac{2^0}{0!} + e^{-2}\\frac{2^1}{1!} + e^{-2}\\frac{2^2}{2!} \\right] \\\\\n",
    "    &= 1 - e^{-2}[1+2+2] = 1-5e^{-2} = 0.3233\n",
    "    \\end{align*} $$\n",
    "- ¿cuál es la probabilidad de que ocurran más de dos accidentes sabiendo que por lo menos ocurre uno?\n",
    "  $$ \\begin{align*} \\mathbb{P}(X>2 \\mid X \\ge 1) &= \\frac{\\mathbb{P}(\\{X>2\\} \\cap \\{X \\ge 1\\} )}{\\mathbb{P}\\{X \\ge 1)\\}} \\\\\n",
    "       &= \\frac{\\mathbb{P}(\\{X>2\\})}{\\mathbb{P}\\{X \\ge 1)\\}} \\\\\n",
    "       & = \\frac{.3233}{1-\\mathbb{P}(X<1)} = \\frac{0.3233}{1-e^{-2}} \\frac{0.3233}{.8646} = 0.3739\n",
    "       \\end{align*} $$\n",
    "Las probabilidades se encuentran en la ruta ...\\Practicas\\20240315_va_poisson.ipynb"
   ]
  },
  {
   "cell_type": "markdown",
   "id": "83a77e16-5a25-46db-9aae-aeaa36229c95",
   "metadata": {},
   "source": [
    "### Aproximación de Poisson a la Binomial\n",
    "La distribución de Poisson es una forma límite de la distribución binomial, es decir, es una buena aproximación cuando $n$ es suficientemente grande y $p$ suficientemente pequeña.\n",
    "\n",
    "$\\textbf{Teorema (Poisson).-}$ Sean $S_{n}\\sim Bin(n,p_{n})$ bajo el regimen $$\\lim_{n\\to \\infty}np_{n}=\\lambda>0.$$\n",
    "Consideremos la siguiente sucesión de números reales:\n",
    "$$a_{j}(n,p_n)=\\begin{cases}\\binom{n}{j}(p_n)^{j}(1-p_{n})^{n-j} & j\\leq n\\\\\n",
    "0 & j\\geq n+1\\end{cases}$$\n",
    "\n",
    " Entonces,\n",
    " $$\\lim_{n\\to \\infty}a_{j}(n,p_n)=a_{j}=e^{-\\lambda}\\frac{\\lambda^{j}}{j!} \\ \\ \\forall j\\in \\mathbb{N}.$$\n",
    "\n",
    " El teorema anterior implica que la distribución de Poisson ofrece un modelo probabilístico adecuado para todos aquellos experimentos aleatorios \ten los que las repeticiones son independientes unas de otras y en los \tque sólo hay dos posibles resultados: éxito o fracaso, con probabilidad de \téxito pequeña, y en los que el interés se centra en conocer el número de éxitos obtenidos al realizar el experimento un número suficientemente grande de veces.\n",
    "\n",
    "Empíricamente se ha establecido, que la aproximación se puede aplicar con seguridad si $n\\ge100$, $p\\le 0.01$ y $np \\le20$.\n",
    "\n",
    "**Ejemplo** Supongamos que la probabilidad de que un producto producido por cierta máquina es defectuoso es de $0.1$. ¿Cuál es la probabilidad de que un lote de 10 productos contenga a lo más un producto defectuoso?\n",
    "\n",
    "Sea $X$ el número de productos defectuosos, y sabemos que $X$ tiene una distribución binomial con parámetros $n=10$ y $p=0.1$, entonces\n",
    "\\begin{align*}\n",
    "\\mathbb{P}(X\\le 1) &= \\mathbb{P}(X=0)+\\mathbb{P}(X=1) \\\\ &= \\binom{10}{0}(0.1)^{0}(0.9)^{10-0}+\\binom{10}{1}(0.1)^{1}(0.9)^{10-1} \\\\ &= 0.7361\n",
    "\t\\end{align*}\n",
    "\n",
    "Ahora, con la distribución Poisson, tenemos que $\\lambda=10(0.1)=1$, por lo que\n",
    "$$\\mathbb{P}(X\\le 1) = \\mathbb{P}(X=0)+\\mathbb{P}(X=1) = \\frac{e^{-1}1^{0}}{0!}+\\frac{e^{-1}1^{1}}{1!} = e^{-1}+e^{-1} =0.7358$$"
   ]
  },
  {
   "cell_type": "markdown",
   "id": "ac44e5fd-ae68-4cdb-83c2-426d3156a8e9",
   "metadata": {},
   "source": [
    "### Gráfica de la aproximación de la binomial a la Poisson"
   ]
  },
  {
   "cell_type": "code",
   "execution_count": 3,
   "id": "571e061b-1936-444c-b618-3456f43413e7",
   "metadata": {},
   "outputs": [
    {
     "data": {
      "image/png": "[encoded data removed]",
      "text/plain": [
       "<Figure size 640x480 with 1 Axes>"
      ]
     },
     "metadata": {},
     "output_type": "display_data"
    }
   ],
   "source": [
    "# Simulación de la aproximación de la Bonomial a la Poisson\n",
    "import numpy as np\n",
    "import numpy.random as npr\n",
    "import scipy.stats as sps\n",
    "from scipy.stats import randint\n",
    "import matplotlib.pyplot as plt #Librería para la visualización de datos\n",
    "import random\n",
    "\n",
    "param=3 # Parametro de la Poisson que queremos aproximar\n",
    "n=1000 # Este es el número de ensayos en la distribución binomial\n",
    "N=5000 # Este es el número de simulaciones que realizaremos.\n",
    "\n",
    "# Genera una muestra de N valores aleatorios de una distribución binomial con parámetros:\n",
    "# n = 1000 (número de ensayos), p = param/n = 3/1000\n",
    "X=npr.binomial(n,param/n,N)\n",
    "\n",
    "# Calcular la frecuencia relativa de los valores simulados\n",
    "counts = np.bincount(X) / float(N)\n",
    "\n",
    "# Crear un array de valores posibles\n",
    "x = np.arange(len(counts))\n",
    "\n",
    "# Calcular la función de masa de probabilidad (FMP) de la distribución Poisson teórica\n",
    "f_x = sps.poisson.pmf(x, param)\n",
    "\n",
    "plt.close()\n",
    "plt.bar(x - 0.5, counts, width=1., label=\"ley empírica\")\n",
    "p2 = plt.stem(x, f_x, \"r\", label=\"ley teórica\")\n",
    "plt.legend()\n",
    "plt.show()"
   ]
  },
  {
   "cell_type": "code",
   "execution_count": null,
   "id": "b5017cfe-9127-42e6-8ebf-6a5f6a1fae0a",
   "metadata": {},
   "outputs": [],
   "source": []
  }
 ],
 "metadata": {
  "kernelspec": {
   "display_name": "Python 3 (ipykernel)",
   "language": "python",
   "name": "python3"
  },
  "language_info": {
   "codemirror_mode": {
    "name": "ipython",
    "version": 3
   },
   "file_extension": ".py",
   "mimetype": "text/x-python",
   "name": "python",
   "nbconvert_exporter": "python",
   "pygments_lexer": "ipython3",
   "version": "3.12.3"
  }
 },
 "nbformat": 4,
 "nbformat_minor": 5
}
