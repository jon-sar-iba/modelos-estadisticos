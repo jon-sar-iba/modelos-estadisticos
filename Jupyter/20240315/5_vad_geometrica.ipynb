{
 "cells": [
  {
   "cell_type": "markdown",
   "id": "eddb32cd-8fa6-4a7c-b6e8-9a09112f267c",
   "metadata": {},
   "source": [
    "## Variable aleatoria Geométrica con parámetro $p\\in (0,1)$."
   ]
  },
  {
   "cell_type": "markdown",
   "id": "9e4bb88a-e010-4fb1-88c8-85feaed65dfd",
   "metadata": {},
   "source": [
    "Esta variable aleatoria cuenta el número de fracasos antes del primer éxito en ensayos bernoulli independientes con parámetro $0<p<1$, y su función de masa de probabilidades está dada por:\n",
    "$$f_{X}(x)=\\begin{cases}\n",
    "\tp(1-p)^{x-1} &\\quad \\text{si } x=1,2,\\dots \\\\\n",
    "\t\\qquad 0 &\\quad \\text{en otro caso}  \n",
    "\\end{cases}$$\n",
    "\n",
    "\n",
    "**Notación:** $X\\sim Geo(p)$\n",
    "\n",
    "La cual es una función de densidad ya que:\n",
    "* $0\\le f_{X}(x)\\le 1$ para toda $x$.\n",
    "* $$\\begin{align*}\n",
    "\t\\sum_{x\\in R_{X}}f_{X}(x) &= \\sum_{x=1}^{\\infty}(1-p)^{x-1}p \\\\\n",
    "\t&= p\\sum_{y=0}^{\\infty}(1-p)^{y} \\\\\n",
    "\t&= p\\left(\\frac{1}{1-(1-p)}\\right) = 1\n",
    "    \\end{align*}$$\n",
    "\n",
    "Si por el contrario queremos contar el número de éxitos antes del primer fracaso, tenemos que la función de está dada por:\n",
    "$$f_{X}(x)=\\begin{cases}\n",
    "\tp^{x}(1-p) &\\quad \\text{si } x=0,1,2,\\dots \\\\\n",
    "\t\\qquad 0 &\\quad \\text{en otro caso}  \n",
    "\\end{cases}$$\n",
    "\n",
    "Para calcular la esperanza y varianza de $X$, necesitamos del siguiente lema:\n",
    "\n",
    "**Lema 1.** Sea $x$ un número real tal que $│x│<1$. Entonces,\n",
    "$$\\sum_{k=1}^{\\infty}kx^{k-1}=\\frac{1}{(1-x)^2}.$$\n",
    "**Demostración.** Se tiene que\n",
    "$$\\frac{d}{dx}\\sum_{k=1}^{\\infty}x^{k}=\\sum_{k=1}^{\\infty}kx^{k-1}.$$\n",
    "Además,\n",
    "$$\\sum_{k=1}^{\\infty}x^{k}=\\frac{x}{1-x}.$$\n",
    "Por lo tanto,\n",
    "$$\\frac{d}{dx}\\frac{x}{1-x}=\\frac{1}{(1-x)^2}.$$\n",
    "\n",
    "Como corolario,\n",
    "$$\\sum_{k=1}^{\\infty}k(k+1)x^{k-1}=\\frac{2}{(1-x)^2}.$$\n",
    "En efecto,\n",
    "$$\\frac{d}{dx}\\sum_{k=1}^{\\infty}(k+1)x^{k}=\\sum_{k=1}^{\\infty}k(k+1)x^{k-1}.$$\n",
    "Ahora,\n",
    "$$\\sum_{k=1}^{\\infty}(k+1)x^{k}=\\sum_{m=2}^{\\infty}mx^{m-1}=\\frac{1}{(1-x)^2}-1.$$\n",
    "\n",
    "Usando estos resultados, se tiene que la esperanza de $X$ es:\n",
    "$$\\begin{align*}\n",
    "\\mathbb{E}[X]&= \\sum_{x=1}^{\\infty} x p(1-p)^{x - 1}\\\\\n",
    "&= p \\frac 1 {(1 - (1-p))^2}\\\\\n",
    "&=  \\frac p {p^2}\\\\\n",
    "&=\\frac{1}{p}\n",
    "\\end{align*}$$\n",
    "y calculamos,\n",
    "$$ \\begin{align*}\n",
    "\\mathbb{E}[X^2]&= \\sum_{x=1}^{\\infty} x^{2}p(1-p)^{x-1}\\\\\n",
    "&=\\sum_{x=1}^{\\infty}x(x+1)(1-p)^{x-1}p-\\sum_{x=1}^{\\infty}p(1-p)^{x-1}\n",
    "\\end{align*}$$\n",
    "\n",
    "Por el Lema 1, se tiene\n",
    "$$\\mathbb{E}[X^2]=p\\frac{2}{p^3}-\\frac{1}{p}=\\frac{2}{p^2}-\\frac{1}{p}.$$\n",
    "\n",
    "Por lo tanto,\n",
    "$$\\text{Var}(X)=\\frac{2}{p^2}-\\frac{1}{p}-\\frac{1}{p^2}=\\frac{1-p}{p^2}.$$"
   ]
  },
  {
   "cell_type": "markdown",
   "id": "319d40b3-ddae-4de4-a0b2-617e95378a9d",
   "metadata": {},
   "source": [
    "### Gráfica de la distribución geométrica"
   ]
  },
  {
   "cell_type": "code",
   "execution_count": 3,
   "id": "d1acdfb0-ee0d-45d3-b360-d484f7e389ac",
   "metadata": {},
   "outputs": [
    {
     "data": {
      "image/png": "[encoded data removed]",
      "text/plain": [
       "<Figure size 1000x600 with 1 Axes>"
      ]
     },
     "metadata": {},
     "output_type": "display_data"
    }
   ],
   "source": [
    "import numpy as np\n",
    "import numpy.random as npr\n",
    "import scipy.stats as sps\n",
    "from scipy.stats import randint\n",
    "import matplotlib.pyplot as plt #Librería para la visualización de datos\n",
    "import random\n",
    "\n",
    "p = 0.6 # probabilidad de éxito\n",
    "s= 100000 # número de muestras\n",
    "\n",
    "random.seed(3) #fijar una semilla\n",
    "#Vamos a generar numeros aleatorios que siguen una distribución geométrica\n",
    "geom_numeros = sps.geom.rvs(p,size=s) \n",
    "\n",
    "#Creamos un histograma\n",
    "plt.figure(figsize=(10,6))\n",
    "plt.hist(\n",
    "    geom_numeros,\n",
    "    density=True, # Normaliza el area para que sea 1\n",
    "    bins=len(np.unique(geom_numeros)), # número de barras del histograma\n",
    "    color = \"blue\",\n",
    "    edgecolor=\"grey\" \n",
    ")\n",
    "\n",
    "plt.xlabel('Valores')\n",
    "plt.ylabel('Probabilidad')\n",
    "plt.title('Función de densidad de una geométrica')\n",
    "plt.show() #mostrar el gráfica"
   ]
  },
  {
   "cell_type": "code",
   "execution_count": null,
   "id": "a747c14e-1a9f-4068-98a1-898020df4fc7",
   "metadata": {},
   "outputs": [],
   "source": []
  }
 ],
 "metadata": {
  "kernelspec": {
   "display_name": "Python 3 (ipykernel)",
   "language": "python",
   "name": "python3"
  },
  "language_info": {
   "codemirror_mode": {
    "name": "ipython",
    "version": 3
   },
   "file_extension": ".py",
   "mimetype": "text/x-python",
   "name": "python",
   "nbconvert_exporter": "python",
   "pygments_lexer": "ipython3",
   "version": "3.12.3"
  }
 },
 "nbformat": 4,
 "nbformat_minor": 5
}
