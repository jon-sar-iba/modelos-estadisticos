{
 "cells": [
  {
   "cell_type": "markdown",
   "id": "b6e00976-308e-44bb-8cae-29d0e737eba3",
   "metadata": {},
   "source": [
    "## Variable aleatoria Binomial con parámetros $n$ y $p\\in(0,1)$"
   ]
  },
  {
   "cell_type": "markdown",
   "id": "ad798226-fa71-475f-a503-47db0524f94c",
   "metadata": {},
   "source": [
    "Decimos que una v.a. $X$ tiene distribución binomial con parámetros $n$ y $p$, si su función de densidad está dada por\n",
    "$$ f_X(x) = \\mathbb{P}(X=x) = \\begin{cases} \\binom{n}{x}p^x (1-p)^{n-x}, \\quad \\text{si } x\\in \\{0,1,...,n\\} \\\\\n",
    "0, \\quad \\text{e.o.c} \\end{cases}$$\n",
    "donde $n\\in\\mathbb{Z}_{+}$ y $0<p<1$.\n",
    "\n",
    "**Obs:** Los ensayos deben ser independientes. \n",
    "\n",
    "La esperanza de $X$ es\n",
    "$$\\begin{align*}\n",
    "\\mathbb{E}[X]&= \\sum_{x \\mathop = 0}^n x \\binom n x p^x (1-p)^{n - x}\\\\\n",
    "&=\\sum_{x \\mathop = 1}^n x \\binom n x p^x (1-p)^{n - x}\\\\\n",
    "&= \\sum_{x \\mathop = 1}^n n \\binom {n - 1} {x - 1} p^x (1-p)^{n - x}\\\\\n",
    "&= n p \\sum_{x \\mathop = 1}^n \\binom {n - 1} {x - 1} p^{x - 1} (1-p)^{( {n - 1}) - ( {x - 1}) }\\\\\n",
    "&=n p \\sum_{j \\mathop = 0}^m \\binom m j p^j (1-p)^{m - j}\\\\\n",
    "&=np.\n",
    "\\end{align*}$$\n",
    "y \n",
    "$$ \\begin{align*}\n",
    "\\mathbb{E}[X^2]&= \\sum_{x \\mathop = 0}^n x^2 \\binom n x p^x (1-p)^{n - x}\\\\\n",
    "&=\\sum_{x \\mathop = 0}^n x n \\binom {n - 1} {x - 1} p^x (1-p)^{n - x}\\\\\n",
    "&= n p \\sum_{x \\mathop = 1}^n x \\binom {n - 1} {x - 1} p^{x - 1} (1-p)^{({n - 1}) - ({x - 1}) }\\\\\n",
    "&= n p \\sum_{j \\mathop = 0}^m ({j + 1}) \\binom m j p^j (1-p)^{m - j}\\\\\n",
    "&=n p \\left( {\\sum_{j \\mathop = 0}^m j \\binom m j p^j (1-p)^{m - j} + \\sum_{j \\mathop = 0}^m \\binom m j p^j (1-p)^{m - j} }\\right)\\\\\n",
    "&=n p \\left( {\\sum_{j \\mathop = 0}^m m \\binom {m - 1} {j - 1} p^j (1-p)^{m - j} + \\sum_{j \\mathop = 0}^m \\binom m j p^j (1-p)^{m - j} }\\right)\\\\\n",
    "&= n p \\left( (n - 1) p \\sum_{j \\mathop = 1}^m \\binom {m - 1}{j - 1} p^{j - 1} (1-p)^{( {m - 1}) - ({j - 1}) } + \\sum_{j \\mathop = 0}^m \\binom m j p^j (1-p)^{m - j}\\right) \\\\\n",
    "&= n p \\left( (n - 1) p (p + (1-p))^{m - 1} + (p + (1-p))^m\\right)\\\\\n",
    "&= n p ((n - 1) p + 1)\\\\\n",
    "&= (np)^2 +np(1-p),\n",
    "\\end{align*} $$\n",
    "\n",
    "Por lo que la varianza de $X$ es\n",
    "$$\\text{Var}(X) = np(1-p) $$"
   ]
  },
  {
   "cell_type": "code",
   "execution_count": 5,
   "id": "ea9ef2cb-1a1d-47af-b612-5d8fc901ee38",
   "metadata": {},
   "outputs": [],
   "source": [
    "import numpy as np\n",
    "import numpy.random as npr\n",
    "import scipy.stats as sps\n",
    "from scipy.stats import randint\n",
    "import matplotlib.pyplot as plt #Librería para la visualización de datos\n",
    "import random"
   ]
  },
  {
   "cell_type": "markdown",
   "id": "7c58c83a-174a-4b17-a9ce-2102749bbb06",
   "metadata": {},
   "source": [
    "**Ejemplo** Una moneda justa se tira seis veces, donde la probabilidad de obtener sol es de $0.3$. Sea $X$ el número de veces que cae sol, entonces dabemos que $X$ tiene una distribución binomial con parámetros $n=6$ y $p=0.3$. Calcular:\n",
    "\n",
    "- $\\mathbb{P}(X=2) = \\binom{6}{2}(0.3)^2 (1-p)^{6-2} = 0.3241$\n",
    "- $\\mathbb{P}(X=3) = \\binom{6}{3}(0.3)^3 (1-p)^{6-3} = 0.1852$\n",
    "- $$ \\begin{align*} \\mathbb{P}(1<X \\le 5) &= \\mathbb{P}(X=2) + \\mathbb{P}(X=3) \\mathbb{P}(X=4) + \\mathbb{P}(X=5) \\\\\n",
    "    &= 0.3241 + 0.1852 + \\binom{6}{4}(0.3)^4 (1-p)^{6-4} + \\binom{6}{5}(0.3)^5 (1-p)^{6-5}  \\\\\n",
    "    &= 0.579 \\end{align*} $$\n",
    "\n",
    "Notemos que $\\mathbb{P}(1<X\\le 5) = F_X(5) - F_X(1) $\n",
    "Usamos el atributo `.cdf ` para calcular estas probabilidades"
   ]
  },
  {
   "cell_type": "code",
   "execution_count": 6,
   "id": "c8f183b8-71bb-4434-8529-5eaa20e21839",
   "metadata": {},
   "outputs": [
    {
     "data": {
      "text/plain": [
       "np.float64(0.5790960000000003)"
      ]
     },
     "execution_count": 6,
     "metadata": {},
     "output_type": "execute_result"
    }
   ],
   "source": [
    "from scipy.stats import binom\n",
    "binom.cdf(5,6,0.3) # calcula la probabilidad acumulada de que haya 5 o menos éxitos en 6 ensayos\n",
    "binom.cdf(1,6,0.3) # calcula la probabilidad acumulada de que haya 1 o menos éxitos en 6 ensayos\n",
    "binom.cdf(5,6,0.3)-binom.cdf(1,6,0.3) # calcula la probabilidad deseada"
   ]
  },
  {
   "cell_type": "code",
   "execution_count": 7,
   "id": "3a91059d-d9ba-462a-a2fa-7055b682bb27",
   "metadata": {},
   "outputs": [
    {
     "data": {
      "image/png": "[encoded data removed]",
      "text/plain": [
       "<Figure size 1000x600 with 1 Axes>"
      ]
     },
     "metadata": {},
     "output_type": "display_data"
    }
   ],
   "source": [
    "n = 25 # número de ensayos bernoulli\n",
    "p = 0.8 # probabilidad de éxito\n",
    "s= 100000 # número de muestras\n",
    "\n",
    "#Vamos a generar numeros aleatorios que siguen una distribución binomial\n",
    "binom_numeros = sps.binom.rvs(n,p,size=s) \n",
    "\n",
    "#Creamos un histograma\n",
    "plt.figure(figsize=(10,6))\n",
    "plt.hist(\n",
    "    binom_numeros,\n",
    "    density=True, # Normaliza el area para que sea 1\n",
    "    bins=len(np.unique(binom_numeros)), # número de barras del histograma\n",
    "    color = \"blue\",\n",
    "    edgecolor=\"grey\" \n",
    ")\n",
    "\n",
    "plt.xlabel('Valores')\n",
    "plt.ylabel('Probabilidad')\n",
    "plt.title('Función de densidad de una binomial')\n",
    "#plt.grid(True)\n",
    "plt.show() #mostrar el gráfica"
   ]
  },
  {
   "cell_type": "code",
   "execution_count": null,
   "id": "2220e2ca-c34c-430d-b542-395892cfb7f6",
   "metadata": {},
   "outputs": [],
   "source": []
  }
 ],
 "metadata": {
  "kernelspec": {
   "display_name": "Python 3 (ipykernel)",
   "language": "python",
   "name": "python3"
  },
  "language_info": {
   "codemirror_mode": {
    "name": "ipython",
    "version": 3
   },
   "file_extension": ".py",
   "mimetype": "text/x-python",
   "name": "python",
   "nbconvert_exporter": "python",
   "pygments_lexer": "ipython3",
   "version": "3.12.3"
  }
 },
 "nbformat": 4,
 "nbformat_minor": 5
}
