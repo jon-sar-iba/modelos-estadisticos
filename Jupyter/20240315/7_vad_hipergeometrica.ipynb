{
 "cells": [
  {
   "cell_type": "markdown",
   "id": "48958471-80e8-4d4e-831e-02f4fe335d5c",
   "metadata": {},
   "source": [
    "## Variable aleatoria Hipergeométrica con parámetros $n,N,m$."
   ]
  },
  {
   "cell_type": "markdown",
   "id": "7f4d111e-446c-403c-9c57-5d76f0efdbf9",
   "metadata": {},
   "source": [
    "Supongamos que se elige, sin reemplazo, una muestra de tamaño $n$ de una urna que contiene $N$ bolas, de las cuales $m$ son rojas y $N-m$ son verdes. Sea $X$ el número de bolas rojas seleccionadas, entonces su función de masa de probabilidades está dada por:\n",
    "$$ f_{X}(x)=\n",
    "\t\\frac{\\binom{m}{x}\\binom{N-m}{n-x}}{\\binom{N}{n}} \\quad \\text{si } x=0,1,\\dots, n $$\n",
    "\n",
    "**Notación.** $X\\sim \\text{Hiper}(n,N,m)$.\n",
    "\n",
    "Se tiene que\n",
    "$$ \\mathbb{E}[X]=\\frac{nm}{N}$$\n",
    "y\n",
    "$$ \\text{Var}[X]=\\frac{nm}{N}\\left[\\frac{(n-1)(m-1)}{N-1}+1-\\frac{nm}{N} \\right].$$\n",
    "\n",
    "**Nota.** Si $x\\leq n$ y $X\\sim \\text{Hiper}(n,N,m)$, cuando $p=\\frac{m}{N}$ y $m,N$ son muy grandes con respecto a $n$ y $x$:\n",
    "$$\\mathbb{P}(X=x)\\approx \\binom{n}{x}p^{x}(1-p)^{n-x}.$$"
   ]
  },
  {
   "cell_type": "code",
   "execution_count": null,
   "id": "911ea754-246a-4dad-a3af-5335c4344048",
   "metadata": {},
   "outputs": [],
   "source": []
  }
 ],
 "metadata": {
  "kernelspec": {
   "display_name": "Python 3 (ipykernel)",
   "language": "python",
   "name": "python3"
  },
  "language_info": {
   "codemirror_mode": {
    "name": "ipython",
    "version": 3
   },
   "file_extension": ".py",
   "mimetype": "text/x-python",
   "name": "python",
   "nbconvert_exporter": "python",
   "pygments_lexer": "ipython3",
   "version": "3.12.3"
  }
 },
 "nbformat": 4,
 "nbformat_minor": 5
}
