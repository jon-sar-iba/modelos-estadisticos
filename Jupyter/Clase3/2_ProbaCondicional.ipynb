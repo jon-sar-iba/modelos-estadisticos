{
 "cells": [
  {
   "cell_type": "markdown",
   "id": "85dabff6-a632-4ecc-9d9f-0441ccdcc60f",
   "metadata": {},
   "source": [
    "# Probabilidad condicional\n",
    "\n",
    "Definimos la probabilidad de que ocurra un evento $A$ sabiendo que ocurre el evento $B$\n",
    "$$ \\mathbb{P}{A \\mid B} = \\frac{\\mathbb{P}(A \\cap B)}{\\mathbb{P}(B)} $$\n",
    "donde $\\mathbb{P} > 0$"
   ]
  },
  {
   "cell_type": "code",
   "execution_count": null,
   "id": "69488b84-a40b-4c5c-90b3-5dcbbcd3fc16",
   "metadata": {},
   "outputs": [],
   "source": [
    "c = {om for om in Omega if om[0] == \"S\" or om[1] == \"S\"}"
   ]
  }
 ],
 "metadata": {
  "kernelspec": {
   "display_name": "Python 3 (ipykernel)",
   "language": "python",
   "name": "python3"
  },
  "language_info": {
   "codemirror_mode": {
    "name": "ipython",
    "version": 3
   },
   "file_extension": ".py",
   "mimetype": "text/x-python",
   "name": "python",
   "nbconvert_exporter": "python",
   "pygments_lexer": "ipython3",
   "version": "3.12.3"
  }
 },
 "nbformat": 4,
 "nbformat_minor": 5
}
