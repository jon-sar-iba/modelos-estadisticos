{
 "cells": [
  {
   "cell_type": "markdown",
   "id": "c8ac21e2",
   "metadata": {},
   "source": [
    "# Pribabilidad Fecuentista\n",
    "\n",
    "Tenemos la hipótesis de que el espacio muestral es un conjunto finito, y podemos definir la probabilidad asociada a un evento $A$: \n",
    "$$ f_n(A) = \\frac{n(A)}{n}, $$\n",
    "donde $n(A)$ denota al número de veces que ocurre $A$, y $n$  es el número de veces que se realiza el experimento."
   ]
  },
  {
   "cell_type": "code",
   "execution_count": 1,
   "id": "f1c0e6b4",
   "metadata": {},
   "outputs": [
    {
     "data": {
      "text/plain": [
       "'aguila'"
      ]
     },
     "execution_count": 1,
     "metadata": {},
     "output_type": "execute_result"
    }
   ],
   "source": [
    "import random\n",
    "\n",
    "#simulamos el lanzamiento de una moneda la probabilidad de que caiga sol es P y águila es el complemnto\n",
    "\n",
    "def volado(p): \n",
    "    return 'sol' if random.random() < p else 'aguila'\n",
    "\n",
    "volado(0.4)"
   ]
  },
  {
   "cell_type": "markdown",
   "id": "eac0180e",
   "metadata": {},
   "source": [
    "Se tiene el lanzamiento de monedas injustas (volados)"
   ]
  },
  {
   "cell_type": "code",
   "execution_count": 2,
   "id": "0428dab9",
   "metadata": {},
   "outputs": [
    {
     "data": {
      "text/plain": [
       "['sol',\n",
       " 'sol',\n",
       " 'aguila',\n",
       " 'sol',\n",
       " 'sol',\n",
       " 'sol',\n",
       " 'aguila',\n",
       " 'sol',\n",
       " 'aguila',\n",
       " 'aguila']"
      ]
     },
     "execution_count": 2,
     "metadata": {},
     "output_type": "execute_result"
    }
   ],
   "source": [
    "#Sucesión de lanzamientos\n",
    "a = [volado(0.4) for i in range(10)]\n",
    "a"
   ]
  },
  {
   "cell_type": "code",
   "execution_count": 6,
   "id": "c2ebea99",
   "metadata": {},
   "outputs": [
    {
     "data": {
      "text/plain": [
       "4"
      ]
     },
     "execution_count": 6,
     "metadata": {},
     "output_type": "execute_result"
    }
   ],
   "source": [
    "a.count('sol')"
   ]
  },
  {
   "cell_type": "code",
   "execution_count": 4,
   "id": "3b33f2b6",
   "metadata": {},
   "outputs": [],
   "source": [
    "resultados = [] #lista vacia"
   ]
  },
  {
   "cell_type": "code",
   "execution_count": 5,
   "id": "092b74ce",
   "metadata": {},
   "outputs": [
    {
     "data": {
      "text/plain": [
       "['sol',\n",
       " 'sol',\n",
       " 'aguila',\n",
       " 'aguila',\n",
       " 'sol',\n",
       " 'sol',\n",
       " 'aguila',\n",
       " 'aguila',\n",
       " 'aguila',\n",
       " 'aguila']"
      ]
     },
     "execution_count": 5,
     "metadata": {},
     "output_type": "execute_result"
    }
   ],
   "source": [
    "for i in range(10):\n",
    "    resultado = volado(0.4)\n",
    "    resultados.append(resultado)\n",
    "\n",
    "resultados # lo imprimimos"
   ]
  },
  {
   "cell_type": "code",
   "execution_count": 6,
   "id": "dc26658c",
   "metadata": {},
   "outputs": [
    {
     "name": "stdout",
     "output_type": "stream",
     "text": [
      "Probabilidad: 0.628\n"
     ]
    }
   ],
   "source": [
    "# Vamos a simular nuestra probabilidad frecuentista\n",
    "p = [] # Lista para almacenar las probabilidades\n",
    "\n",
    "for i in range(1000): #Simula 1000 experimentos\n",
    "    N = 10 #numero de lanzamientos\n",
    "    resultados = []\n",
    "    #Hacemos 10 lanzamientos en cada experimento\n",
    "    for i in range(N):\n",
    "        resultado = volado(0.63) #con una probabilidad de .63\n",
    "        resultados.append(resultado) # que se guarde el resultado en la lista\n",
    "        \n",
    "    num_soles = resultados.count('sol') # cuenta el número de soles\n",
    "    p_soles  = num_soles / N #calcula la proporción que es número de soles / numero veces se realiza el experimento\n",
    "    \n",
    "    p.append(p_soles)\n",
    "\n",
    "    #Probabilidad promedio\n",
    "p_soles_prom = sum(p)/1000\n",
    "print('Probabilidad: {:.3f}'.format(p_soles_prom))"
   ]
  },
  {
   "cell_type": "code",
   "execution_count": null,
   "id": "1e613c73-212f-4432-97a1-91c44cb02bfc",
   "metadata": {},
   "outputs": [],
   "source": []
  }
 ],
 "metadata": {
  "kernelspec": {
   "display_name": "Python 3 (ipykernel)",
   "language": "python",
   "name": "python3"
  },
  "language_info": {
   "codemirror_mode": {
    "name": "ipython",
    "version": 3
   },
   "file_extension": ".py",
   "mimetype": "text/x-python",
   "name": "python",
   "nbconvert_exporter": "python",
   "pygments_lexer": "ipython3",
   "version": "3.12.3"
  }
 },
 "nbformat": 4,
 "nbformat_minor": 5
}
